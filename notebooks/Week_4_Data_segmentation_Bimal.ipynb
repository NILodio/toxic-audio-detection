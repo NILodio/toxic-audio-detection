{
 "cells": [
  {
   "cell_type": "code",
   "execution_count": 71,
   "id": "657191c4-dd78-470d-80e8-6fdc60c7c30f",
   "metadata": {},
   "outputs": [],
   "source": [
    "import pandas as pd\n",
    "import numpy as np\n",
    "import os\n",
    "import matplotlib.pyplot as plt\n",
    "import tensorflow as tf\n",
    "import tensorflow_io as tfio\n",
    "#needs to be installed while building docker or while running notwbook\n",
    "# import librosa\n",
    "from pydub import AudioSegment\n",
    "import warnings\n",
    "\n",
    "# Ignore all warnings\n",
    "warnings.filterwarnings(\"ignore\")"
   ]
  },
  {
   "cell_type": "code",
   "execution_count": 72,
   "id": "100ff0a1-d53b-4091-9097-60c61ef260f7",
   "metadata": {},
   "outputs": [],
   "source": [
    "data_dir  = os.path.join('..','data') "
   ]
  },
  {
   "cell_type": "code",
   "execution_count": 73,
   "id": "8c2484b0-35b9-49a6-8972-dfa8e366f3bf",
   "metadata": {},
   "outputs": [],
   "source": [
    "df = pd.read_excel(os.path.join(data_dir,'VSD.xlsx'),sheet_name='read_dataset')"
   ]
  },
  {
   "cell_type": "code",
   "execution_count": 74,
   "id": "6baa2b60-3629-4fd5-a84a-01a120038afa",
   "metadata": {},
   "outputs": [
    {
     "data": {
      "text/html": [
       "<div>\n",
       "<style scoped>\n",
       "    .dataframe tbody tr th:only-of-type {\n",
       "        vertical-align: middle;\n",
       "    }\n",
       "\n",
       "    .dataframe tbody tr th {\n",
       "        vertical-align: top;\n",
       "    }\n",
       "\n",
       "    .dataframe thead th {\n",
       "        text-align: right;\n",
       "    }\n",
       "</style>\n",
       "<table border=\"1\" class=\"dataframe\">\n",
       "  <thead>\n",
       "    <tr style=\"text-align: right;\">\n",
       "      <th></th>\n",
       "      <th>File_segment_name</th>\n",
       "      <th>Duration</th>\n",
       "      <th>Violence_start</th>\n",
       "      <th>Violence_end</th>\n",
       "      <th>Violence_duration</th>\n",
       "    </tr>\n",
       "  </thead>\n",
       "  <tbody>\n",
       "    <tr>\n",
       "      <th>0</th>\n",
       "      <td>angry_011</td>\n",
       "      <td>117.0</td>\n",
       "      <td>21.0</td>\n",
       "      <td>38.0</td>\n",
       "      <td>17.0</td>\n",
       "    </tr>\n",
       "    <tr>\n",
       "      <th>1</th>\n",
       "      <td>angry_011</td>\n",
       "      <td>117.0</td>\n",
       "      <td>40.0</td>\n",
       "      <td>55.0</td>\n",
       "      <td>15.0</td>\n",
       "    </tr>\n",
       "    <tr>\n",
       "      <th>2</th>\n",
       "      <td>angry_011</td>\n",
       "      <td>117.0</td>\n",
       "      <td>60.0</td>\n",
       "      <td>79.0</td>\n",
       "      <td>19.0</td>\n",
       "    </tr>\n",
       "    <tr>\n",
       "      <th>3</th>\n",
       "      <td>angry_011</td>\n",
       "      <td>117.0</td>\n",
       "      <td>85.0</td>\n",
       "      <td>95.0</td>\n",
       "      <td>10.0</td>\n",
       "    </tr>\n",
       "    <tr>\n",
       "      <th>4</th>\n",
       "      <td>angry_011</td>\n",
       "      <td>117.0</td>\n",
       "      <td>101.0</td>\n",
       "      <td>110.0</td>\n",
       "      <td>9.0</td>\n",
       "    </tr>\n",
       "  </tbody>\n",
       "</table>\n",
       "</div>"
      ],
      "text/plain": [
       "  File_segment_name  Duration  Violence_start  Violence_end  Violence_duration\n",
       "0         angry_011     117.0            21.0          38.0               17.0\n",
       "1         angry_011     117.0            40.0          55.0               15.0\n",
       "2         angry_011     117.0            60.0          79.0               19.0\n",
       "3         angry_011     117.0            85.0          95.0               10.0\n",
       "4         angry_011     117.0           101.0         110.0                9.0"
      ]
     },
     "execution_count": 74,
     "metadata": {},
     "output_type": "execute_result"
    }
   ],
   "source": [
    "df.head()"
   ]
  },
  {
   "cell_type": "code",
   "execution_count": 75,
   "id": "4840f374-bc6c-4ea6-bdc8-e4f26f12e70e",
   "metadata": {},
   "outputs": [
    {
     "data": {
      "text/plain": [
       "0"
      ]
     },
     "execution_count": 75,
     "metadata": {},
     "output_type": "execute_result"
    }
   ],
   "source": [
    "df.duplicated().sum()"
   ]
  },
  {
   "cell_type": "code",
   "execution_count": 76,
   "id": "cae2e634-3591-41e7-8c48-a7ff9df14bf5",
   "metadata": {},
   "outputs": [
    {
     "data": {
      "text/plain": [
       "File_segment_name    0\n",
       "Duration             0\n",
       "Violence_start       0\n",
       "Violence_end         0\n",
       "Violence_duration    0\n",
       "dtype: int64"
      ]
     },
     "execution_count": 76,
     "metadata": {},
     "output_type": "execute_result"
    }
   ],
   "source": [
    "df.isnull().sum()"
   ]
  },
  {
   "cell_type": "code",
   "execution_count": 77,
   "id": "43de1405-0471-4536-a469-519fb09cca08",
   "metadata": {},
   "outputs": [],
   "source": [
    "def get_dir(filepath):\n",
    "    toxic_dir = os.path.join(filepath,'toxic')\n",
    "    non_toxic_dir= os.path.join(filepath,'non_toxic')\n",
    "    if not os.path.exists(toxic_dir):\n",
    "        os.mkdir(toxic_dir)\n",
    "    if not os.path.exists(non_toxic_dir):\n",
    "        os.mkdir(non_toxic_dir)\n",
    "    return toxic_dir,non_toxic_dir\n",
    "\n",
    "def segment_toxic_audio(filepath,df,toxic_dir):\n",
    "    for index,row in df.iterrows():\n",
    "        t1 = 1000 * row[2]\n",
    "        t2 = 1000 * row[3]\n",
    "        audio  = AudioSegment.from_wav(os.path.join(filepath,str(row[0])+'.wav'))\n",
    "        toxic = audio[t1:t2]\n",
    "        a= 0 \n",
    "        while len(toxic)>4000:\n",
    "            toxic[:4000].export(os.path.join(toxic_dir,'toxic_'+str(index)+'_'+str(a)+\".wav\"),format = 'wav')\n",
    "            toxic = toxic[4000:]\n",
    "            a+=1\n",
    "def segment_non_toxic_audio(filepath,df,non_toxic_dir):\n",
    "    no = 0 #for naming purposes\n",
    "    unique_aud = df['File_segment_name'].unique()\n",
    "    for aud in unique_aud:\n",
    "        t1 = 0\n",
    "        for row in df[df['File_segment_name']== aud ].values:\n",
    "            no+=1\n",
    "            t2 = 1000 * row[2]\n",
    "            audio  = AudioSegment.from_wav(os.path.join(filepath,str(row[0])+'.wav'))\n",
    "            non_toxic = audio[t1:t2] if t2!=0 else audio\n",
    "            a= 0 \n",
    "            while len(non_toxic)>4000:\n",
    "                non_toxic[:4000].export(os.path.join(non_toxic_dir,'non_toxic'+'_'+str(no)+'_'+str(a)+\".wav\"),format = 'wav')\n",
    "                non_toxic = non_toxic[4000:]\n",
    "                a+=1\n",
    "            t1 = 1000* row[3]"
   ]
  },
  {
   "cell_type": "code",
   "execution_count": 78,
   "id": "99c8edfc-4d69-4e9d-abf0-98eedde1e4fd",
   "metadata": {},
   "outputs": [],
   "source": [
    "def data_segmentation(data_path,df):\n",
    "    t_path,nt_path = get_dir(data_path)\n",
    "    audio_path = os.path.join(data_path,'audios_VSD','audios_VSD')\n",
    "    segment_toxic_audio(audio_path,df,t_path)\n",
    "    segment_non_toxic_audio(audio_path,df,nt_path)"
   ]
  },
  {
   "cell_type": "code",
   "execution_count": 79,
   "id": "d06c641e-cd71-4a6a-bff0-584c9b45e0c7",
   "metadata": {
    "scrolled": true
   },
   "outputs": [],
   "source": [
    "data_segmentation(data_dir,df)"
   ]
  },
  {
   "cell_type": "code",
   "execution_count": 15,
   "id": "eab1391c-a5f6-4e1a-a9cb-9bffa539b474",
   "metadata": {},
   "outputs": [],
   "source": [
    "#Using tensorflow instead of librosa\n"
   ]
  },
  {
   "cell_type": "code",
   "execution_count": null,
   "id": "c1adace1-f1a6-4b2c-b836-690ecaf67843",
   "metadata": {},
   "outputs": [],
   "source": []
  }
 ],
 "metadata": {
  "kernelspec": {
   "display_name": "Python 3 (ipykernel)",
   "language": "python",
   "name": "python3"
  },
  "language_info": {
   "codemirror_mode": {
    "name": "ipython",
    "version": 3
   },
   "file_extension": ".py",
   "mimetype": "text/x-python",
   "name": "python",
   "nbconvert_exporter": "python",
   "pygments_lexer": "ipython3",
   "version": "3.10.0"
  }
 },
 "nbformat": 4,
 "nbformat_minor": 5
}
