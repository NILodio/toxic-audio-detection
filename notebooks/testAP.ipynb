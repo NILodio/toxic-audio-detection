{
 "cells": [
  {
   "cell_type": "code",
   "execution_count": 390,
   "id": "e3b271fa",
   "metadata": {},
   "outputs": [],
   "source": [
    "import matplotlib.pyplot as plt\n",
    "%matplotlib inline\n",
    "import librosa\n",
    "import librosa.display\n",
    "import IPython.display as ipd\n",
    "from pandas import read_excel\n",
    "import pandas as pd\n",
    "import os\n",
    "from tqdm import tqdm\n",
    "import numpy as np\n",
    "import tensorflow as tf\n",
    "from sklearn.model_selection import train_test_split\n",
    "from sklearn.preprocessing import OneHotEncoder\n",
    "import tensorflow as tf\n",
    "import keras\n",
    "from keras import layers\n",
    "from tensorflow.keras.callbacks import ModelCheckpoint\n",
    "from datetime import datetime\n",
    "from tensorflow.keras.models import Sequential\n",
    "from tensorflow.keras.layers import Dense"
   ]
  },
  {
   "cell_type": "code",
   "execution_count": 2,
   "id": "6cfc6c59",
   "metadata": {},
   "outputs": [],
   "source": [
    "metaData = read_excel(r'C:/Users/aanal/Documents/AML-Lab/VSD.xlsx', sheet_name='read_dataset')"
   ]
  },
  {
   "cell_type": "code",
   "execution_count": 3,
   "id": "f9efce72",
   "metadata": {
    "scrolled": true
   },
   "outputs": [
    {
     "data": {
      "text/html": [
       "<div>\n",
       "<style scoped>\n",
       "    .dataframe tbody tr th:only-of-type {\n",
       "        vertical-align: middle;\n",
       "    }\n",
       "\n",
       "    .dataframe tbody tr th {\n",
       "        vertical-align: top;\n",
       "    }\n",
       "\n",
       "    .dataframe thead th {\n",
       "        text-align: right;\n",
       "    }\n",
       "</style>\n",
       "<table border=\"1\" class=\"dataframe\">\n",
       "  <thead>\n",
       "    <tr style=\"text-align: right;\">\n",
       "      <th></th>\n",
       "      <th>File_segment_name</th>\n",
       "      <th>Duration</th>\n",
       "      <th>Violence_start</th>\n",
       "      <th>Violence_end</th>\n",
       "      <th>Violence_duration</th>\n",
       "    </tr>\n",
       "  </thead>\n",
       "  <tbody>\n",
       "    <tr>\n",
       "      <th>0</th>\n",
       "      <td>angry_011</td>\n",
       "      <td>117.0</td>\n",
       "      <td>21.0</td>\n",
       "      <td>38.000</td>\n",
       "      <td>17.00</td>\n",
       "    </tr>\n",
       "    <tr>\n",
       "      <th>1</th>\n",
       "      <td>angry_011</td>\n",
       "      <td>117.0</td>\n",
       "      <td>40.0</td>\n",
       "      <td>55.000</td>\n",
       "      <td>15.00</td>\n",
       "    </tr>\n",
       "    <tr>\n",
       "      <th>2</th>\n",
       "      <td>angry_011</td>\n",
       "      <td>117.0</td>\n",
       "      <td>60.0</td>\n",
       "      <td>79.000</td>\n",
       "      <td>19.00</td>\n",
       "    </tr>\n",
       "    <tr>\n",
       "      <th>3</th>\n",
       "      <td>angry_011</td>\n",
       "      <td>117.0</td>\n",
       "      <td>85.0</td>\n",
       "      <td>95.000</td>\n",
       "      <td>10.00</td>\n",
       "    </tr>\n",
       "    <tr>\n",
       "      <th>4</th>\n",
       "      <td>angry_011</td>\n",
       "      <td>117.0</td>\n",
       "      <td>101.0</td>\n",
       "      <td>110.000</td>\n",
       "      <td>9.00</td>\n",
       "    </tr>\n",
       "    <tr>\n",
       "      <th>5</th>\n",
       "      <td>angry_012</td>\n",
       "      <td>32.0</td>\n",
       "      <td>0.0</td>\n",
       "      <td>0.020</td>\n",
       "      <td>0.02</td>\n",
       "    </tr>\n",
       "    <tr>\n",
       "      <th>6</th>\n",
       "      <td>angry_013</td>\n",
       "      <td>72.0</td>\n",
       "      <td>0.0</td>\n",
       "      <td>0.010</td>\n",
       "      <td>0.00</td>\n",
       "    </tr>\n",
       "    <tr>\n",
       "      <th>7</th>\n",
       "      <td>angry_014</td>\n",
       "      <td>50.0</td>\n",
       "      <td>0.0</td>\n",
       "      <td>0.012</td>\n",
       "      <td>0.00</td>\n",
       "    </tr>\n",
       "    <tr>\n",
       "      <th>8</th>\n",
       "      <td>angry_015</td>\n",
       "      <td>162.0</td>\n",
       "      <td>64.0</td>\n",
       "      <td>71.000</td>\n",
       "      <td>7.00</td>\n",
       "    </tr>\n",
       "    <tr>\n",
       "      <th>9</th>\n",
       "      <td>angry_015</td>\n",
       "      <td>162.0</td>\n",
       "      <td>89.0</td>\n",
       "      <td>100.000</td>\n",
       "      <td>11.00</td>\n",
       "    </tr>\n",
       "  </tbody>\n",
       "</table>\n",
       "</div>"
      ],
      "text/plain": [
       "  File_segment_name  Duration  Violence_start  Violence_end  Violence_duration\n",
       "0         angry_011     117.0            21.0        38.000              17.00\n",
       "1         angry_011     117.0            40.0        55.000              15.00\n",
       "2         angry_011     117.0            60.0        79.000              19.00\n",
       "3         angry_011     117.0            85.0        95.000              10.00\n",
       "4         angry_011     117.0           101.0       110.000               9.00\n",
       "5         angry_012      32.0             0.0         0.020               0.02\n",
       "6         angry_013      72.0             0.0         0.010               0.00\n",
       "7         angry_014      50.0             0.0         0.012               0.00\n",
       "8         angry_015     162.0            64.0        71.000               7.00\n",
       "9         angry_015     162.0            89.0       100.000              11.00"
      ]
     },
     "execution_count": 3,
     "metadata": {},
     "output_type": "execute_result"
    }
   ],
   "source": [
    "metaData.head(10)"
   ]
  },
  {
   "cell_type": "code",
   "execution_count": 4,
   "id": "485a43b2",
   "metadata": {},
   "outputs": [
    {
     "name": "stdout",
     "output_type": "stream",
     "text": [
      "<class 'pandas.core.frame.DataFrame'>\n",
      "RangeIndex: 341 entries, 0 to 340\n",
      "Data columns (total 5 columns):\n",
      " #   Column             Non-Null Count  Dtype  \n",
      "---  ------             --------------  -----  \n",
      " 0   File_segment_name  341 non-null    object \n",
      " 1   Duration           341 non-null    float64\n",
      " 2   Violence_start     341 non-null    float64\n",
      " 3   Violence_end       341 non-null    float64\n",
      " 4   Violence_duration  341 non-null    float64\n",
      "dtypes: float64(4), object(1)\n",
      "memory usage: 13.4+ KB\n"
     ]
    }
   ],
   "source": [
    "metaData.info()"
   ]
  },
  {
   "cell_type": "code",
   "execution_count": 5,
   "id": "51f833c6",
   "metadata": {},
   "outputs": [
    {
     "data": {
      "text/plain": [
       "count     341.000000\n",
       "mean      173.798208\n",
       "std       483.313948\n",
       "min        15.000000\n",
       "25%        74.000000\n",
       "50%       108.000000\n",
       "75%       161.000000\n",
       "max      4966.000000\n",
       "Name: Duration, dtype: float64"
      ]
     },
     "execution_count": 5,
     "metadata": {},
     "output_type": "execute_result"
    }
   ],
   "source": [
    "metaData['Duration'].describe()"
   ]
  },
  {
   "cell_type": "code",
   "execution_count": 6,
   "id": "40f541bd",
   "metadata": {},
   "outputs": [
    {
     "data": {
      "text/plain": [
       "count    341.000000\n",
       "mean       8.946962\n",
       "std       12.588253\n",
       "min        0.000000\n",
       "25%        2.508000\n",
       "50%        4.644000\n",
       "75%       10.053000\n",
       "max      141.260000\n",
       "Name: Violence_duration, dtype: float64"
      ]
     },
     "execution_count": 6,
     "metadata": {},
     "output_type": "execute_result"
    }
   ],
   "source": [
    "metaData['Violence_duration'].describe()"
   ]
  },
  {
   "cell_type": "code",
   "execution_count": 77,
   "id": "d8d04730",
   "metadata": {},
   "outputs": [],
   "source": [
    "audioDataPath = 'audios_VSD'\n",
    "# C:/Users/aanal/Documents/AML-Lab/"
   ]
  },
  {
   "cell_type": "code",
   "execution_count": 8,
   "id": "dd4739f3",
   "metadata": {},
   "outputs": [
    {
     "data": {
      "text/plain": [
       "131"
      ]
     },
     "execution_count": 8,
     "metadata": {},
     "output_type": "execute_result"
    }
   ],
   "source": [
    "audioFiles = os.listdir(audioDataPath)\n",
    "len(audioFiles)"
   ]
  },
  {
   "cell_type": "code",
   "execution_count": 9,
   "id": "b25583bf",
   "metadata": {},
   "outputs": [],
   "source": [
    "def extract_features(audio_path, start_time, end_time, sr=22050,  n_fft=1024):\n",
    "    # Load the entire audio file\n",
    "    y, sr = librosa.load(audio_path, sr=sr)\n",
    "    \n",
    "    # Convert start and end times to sample indices\n",
    "    start_idx = int(start_time * sr)\n",
    "    end_idx = int(end_time * sr)\n",
    "    \n",
    "    # Extract the segment of interest\n",
    "    segment = y[start_idx:end_idx]\n",
    "    \n",
    "    # Compute MFCC features for the segment\n",
    "    mfcc_segment = librosa.feature.mfcc(y=segment, sr=sr, n_fft=n_fft) #, n_mfcc=n_mfcc, hop_length=hop_length, n_fft=n_fft)\n",
    "    \n",
    "    # Compute MFCC features for the rest of the audio\n",
    "    rest_audio = np.concatenate([y[:start_idx], y[end_idx:]])\n",
    "    mfcc_rest = librosa.feature.mfcc(y=rest_audio, sr=sr, n_fft=n_fft) #, n_mfcc=n_mfcc, hop_length=hop_length, n_fft=n_fft)\n",
    "    \n",
    "    return mfcc_segment, mfcc_rest\n",
    "\n",
    "\n"
   ]
  },
  {
   "cell_type": "code",
   "execution_count": null,
   "id": "58ee8ca7",
   "metadata": {},
   "outputs": [],
   "source": [
    "def fun(df, filepath):\n",
    "    lst = []\n",
    "    name = df['File_segment_name'][0]\n",
    "    start = 0\n",
    "    for i in range(len(df)):\n",
    "        if name != df['File_segment_name'][i]:\n",
    "            audioPath = os.path.join(filepath, df['File_segment_name'][i-1] + '.wav')\n",
    "            a = extract_features(audioPath, df['Violence_end'][i-1], df['Duration'][i-1])\n",
    "            start = 0\n",
    "            name = df['File_segment_name'][i]\n",
    "            lst.append([a,0])\n",
    "        audioPath = os.path.join(filepath, df['File_segment_name'][i] + '.wav')\n",
    "        nv = extract_features(audioPath, start, df['Violence_start'][i]) \n",
    "        lst.append([nv,0])\n",
    "        v = extract_features(audioPath, df['Violence_start'][i], df['Violence_end'][i]) \n",
    "        lst.append([v,1])\n",
    "        start = df['Violence_end'][i]\n",
    "    audioPath = os.path.join(filepath,name + '.wav')\n",
    "    nv = extract_features(audioPath, start, metaData.iloc[-1, 1]) \n",
    "    lst.append([nv,0])    \n",
    "    return pd.DataFrame(lst, columns=['feature', 'lable'])"
   ]
  },
  {
   "cell_type": "code",
   "execution_count": 115,
   "id": "88bd8a73",
   "metadata": {},
   "outputs": [
    {
     "name": "stderr",
     "output_type": "stream",
     "text": [
      "C:\\Users\\aanal\\anaconda3\\Lib\\site-packages\\librosa\\core\\spectrum.py:257: UserWarning: n_fft=1024 is too large for input signal of length=0\n",
      "  warnings.warn(\n",
      "C:\\Users\\aanal\\anaconda3\\Lib\\site-packages\\librosa\\core\\spectrum.py:257: UserWarning: n_fft=1024 is too large for input signal of length=441\n",
      "  warnings.warn(\n",
      "C:\\Users\\aanal\\anaconda3\\Lib\\site-packages\\librosa\\core\\spectrum.py:257: UserWarning: n_fft=1024 is too large for input signal of length=220\n",
      "  warnings.warn(\n",
      "C:\\Users\\aanal\\anaconda3\\Lib\\site-packages\\librosa\\core\\spectrum.py:257: UserWarning: n_fft=1024 is too large for input signal of length=264\n",
      "  warnings.warn(\n"
     ]
    }
   ],
   "source": [
    "newData = fun(metaData[:10],audioDataPath)"
   ]
  },
  {
   "cell_type": "code",
   "execution_count": 116,
   "id": "b4beb449",
   "metadata": {},
   "outputs": [
    {
     "data": {
      "text/html": [
       "<div>\n",
       "<style scoped>\n",
       "    .dataframe tbody tr th:only-of-type {\n",
       "        vertical-align: middle;\n",
       "    }\n",
       "\n",
       "    .dataframe tbody tr th {\n",
       "        vertical-align: top;\n",
       "    }\n",
       "\n",
       "    .dataframe thead th {\n",
       "        text-align: right;\n",
       "    }\n",
       "</style>\n",
       "<table border=\"1\" class=\"dataframe\">\n",
       "  <thead>\n",
       "    <tr style=\"text-align: right;\">\n",
       "      <th></th>\n",
       "      <th>feature</th>\n",
       "      <th>lable</th>\n",
       "    </tr>\n",
       "  </thead>\n",
       "  <tbody>\n",
       "    <tr>\n",
       "      <th>0</th>\n",
       "      <td>([[-283.0617, -299.2603, -314.5908, -253.0902,...</td>\n",
       "      <td>0</td>\n",
       "    </tr>\n",
       "    <tr>\n",
       "      <th>1</th>\n",
       "      <td>([[-336.70837, -320.17462, -325.77048, -331.77...</td>\n",
       "      <td>1</td>\n",
       "    </tr>\n",
       "    <tr>\n",
       "      <th>2</th>\n",
       "      <td>([[-297.0687, -253.70218, -228.25157, -226.497...</td>\n",
       "      <td>0</td>\n",
       "    </tr>\n",
       "    <tr>\n",
       "      <th>3</th>\n",
       "      <td>([[-141.14969, -133.57347, -134.88489, -141.36...</td>\n",
       "      <td>1</td>\n",
       "    </tr>\n",
       "    <tr>\n",
       "      <th>4</th>\n",
       "      <td>([[-185.53253, -198.32878, -209.37585, -218.36...</td>\n",
       "      <td>0</td>\n",
       "    </tr>\n",
       "    <tr>\n",
       "      <th>5</th>\n",
       "      <td>([[-293.8736, -232.80789, -209.51224, -174.620...</td>\n",
       "      <td>1</td>\n",
       "    </tr>\n",
       "    <tr>\n",
       "      <th>6</th>\n",
       "      <td>([[-335.6747, -263.656, -210.67967, -192.7073,...</td>\n",
       "      <td>0</td>\n",
       "    </tr>\n",
       "    <tr>\n",
       "      <th>7</th>\n",
       "      <td>([[-84.04805, -122.31657, -115.65719, -126.689...</td>\n",
       "      <td>1</td>\n",
       "    </tr>\n",
       "    <tr>\n",
       "      <th>8</th>\n",
       "      <td>([[-39.012417, -94.36844, -117.69629, -124.144...</td>\n",
       "      <td>0</td>\n",
       "    </tr>\n",
       "    <tr>\n",
       "      <th>9</th>\n",
       "      <td>([[-308.69864, -271.56873, -235.51297, -234.77...</td>\n",
       "      <td>1</td>\n",
       "    </tr>\n",
       "    <tr>\n",
       "      <th>10</th>\n",
       "      <td>([[-263.9383, -242.10832, -278.87897, -272.830...</td>\n",
       "      <td>0</td>\n",
       "    </tr>\n",
       "    <tr>\n",
       "      <th>11</th>\n",
       "      <td>([[-1131.3708], [0.0], [0.0], [0.0], [0.0], [0...</td>\n",
       "      <td>0</td>\n",
       "    </tr>\n",
       "    <tr>\n",
       "      <th>12</th>\n",
       "      <td>([[-400.3082], [99.03504], [-1.4618022], [44.8...</td>\n",
       "      <td>1</td>\n",
       "    </tr>\n",
       "    <tr>\n",
       "      <th>13</th>\n",
       "      <td>([[-408.85364, -392.51724, -394.5604, -400.633...</td>\n",
       "      <td>0</td>\n",
       "    </tr>\n",
       "    <tr>\n",
       "      <th>14</th>\n",
       "      <td>([[-1131.3708], [0.0], [0.0], [0.0], [0.0], [0...</td>\n",
       "      <td>0</td>\n",
       "    </tr>\n",
       "    <tr>\n",
       "      <th>15</th>\n",
       "      <td>([[-403.91913], [135.41147], [-21.128784], [37...</td>\n",
       "      <td>1</td>\n",
       "    </tr>\n",
       "    <tr>\n",
       "      <th>16</th>\n",
       "      <td>([[-406.40894, -362.47095, -362.62103, -373.31...</td>\n",
       "      <td>0</td>\n",
       "    </tr>\n",
       "    <tr>\n",
       "      <th>17</th>\n",
       "      <td>([[-1131.3708], [0.0], [0.0], [0.0], [0.0], [0...</td>\n",
       "      <td>0</td>\n",
       "    </tr>\n",
       "    <tr>\n",
       "      <th>18</th>\n",
       "      <td>([[-330.61887], [129.50246], [0.8730483], [17....</td>\n",
       "      <td>1</td>\n",
       "    </tr>\n",
       "    <tr>\n",
       "      <th>19</th>\n",
       "      <td>([[-368.52484, -343.9367, -355.94193, -353.821...</td>\n",
       "      <td>0</td>\n",
       "    </tr>\n",
       "    <tr>\n",
       "      <th>20</th>\n",
       "      <td>([[-415.27435, -400.7216, -387.61475, -392.724...</td>\n",
       "      <td>0</td>\n",
       "    </tr>\n",
       "    <tr>\n",
       "      <th>21</th>\n",
       "      <td>([[-318.10754, -307.78867, -310.57196, -305.61...</td>\n",
       "      <td>1</td>\n",
       "    </tr>\n",
       "    <tr>\n",
       "      <th>22</th>\n",
       "      <td>([[-317.66916, -283.68536, -186.251, -153.5717...</td>\n",
       "      <td>0</td>\n",
       "    </tr>\n",
       "    <tr>\n",
       "      <th>23</th>\n",
       "      <td>([[-295.3404, -282.53064, -262.9849, -251.3854...</td>\n",
       "      <td>1</td>\n",
       "    </tr>\n",
       "    <tr>\n",
       "      <th>24</th>\n",
       "      <td>([[-287.68863, -263.14017, -242.44579, -224.21...</td>\n",
       "      <td>0</td>\n",
       "    </tr>\n",
       "  </tbody>\n",
       "</table>\n",
       "</div>"
      ],
      "text/plain": [
       "                                              feature  lable\n",
       "0   ([[-283.0617, -299.2603, -314.5908, -253.0902,...      0\n",
       "1   ([[-336.70837, -320.17462, -325.77048, -331.77...      1\n",
       "2   ([[-297.0687, -253.70218, -228.25157, -226.497...      0\n",
       "3   ([[-141.14969, -133.57347, -134.88489, -141.36...      1\n",
       "4   ([[-185.53253, -198.32878, -209.37585, -218.36...      0\n",
       "5   ([[-293.8736, -232.80789, -209.51224, -174.620...      1\n",
       "6   ([[-335.6747, -263.656, -210.67967, -192.7073,...      0\n",
       "7   ([[-84.04805, -122.31657, -115.65719, -126.689...      1\n",
       "8   ([[-39.012417, -94.36844, -117.69629, -124.144...      0\n",
       "9   ([[-308.69864, -271.56873, -235.51297, -234.77...      1\n",
       "10  ([[-263.9383, -242.10832, -278.87897, -272.830...      0\n",
       "11  ([[-1131.3708], [0.0], [0.0], [0.0], [0.0], [0...      0\n",
       "12  ([[-400.3082], [99.03504], [-1.4618022], [44.8...      1\n",
       "13  ([[-408.85364, -392.51724, -394.5604, -400.633...      0\n",
       "14  ([[-1131.3708], [0.0], [0.0], [0.0], [0.0], [0...      0\n",
       "15  ([[-403.91913], [135.41147], [-21.128784], [37...      1\n",
       "16  ([[-406.40894, -362.47095, -362.62103, -373.31...      0\n",
       "17  ([[-1131.3708], [0.0], [0.0], [0.0], [0.0], [0...      0\n",
       "18  ([[-330.61887], [129.50246], [0.8730483], [17....      1\n",
       "19  ([[-368.52484, -343.9367, -355.94193, -353.821...      0\n",
       "20  ([[-415.27435, -400.7216, -387.61475, -392.724...      0\n",
       "21  ([[-318.10754, -307.78867, -310.57196, -305.61...      1\n",
       "22  ([[-317.66916, -283.68536, -186.251, -153.5717...      0\n",
       "23  ([[-295.3404, -282.53064, -262.9849, -251.3854...      1\n",
       "24  ([[-287.68863, -263.14017, -242.44579, -224.21...      0"
      ]
     },
     "execution_count": 116,
     "metadata": {},
     "output_type": "execute_result"
    }
   ],
   "source": [
    "newData"
   ]
  },
  {
   "cell_type": "code",
   "execution_count": 392,
   "id": "c49b2163",
   "metadata": {},
   "outputs": [],
   "source": [
    "y = np.array(newData['lable']).reshape((-1, 1))\n",
    "y = np.asarray(y).astype(np.float32)"
   ]
  },
  {
   "cell_type": "code",
   "execution_count": 393,
   "id": "6ebc1e3c",
   "metadata": {
    "scrolled": true
   },
   "outputs": [
    {
     "data": {
      "text/plain": [
       "((25, 1), (25, 1))"
      ]
     },
     "execution_count": 393,
     "metadata": {},
     "output_type": "execute_result"
    }
   ],
   "source": [
    "X = np.array(newData['feature'])\n",
    "X = X.reshape((-1, 1))\n",
    "#y_list = newData['lable']\n",
    "#y = np.array(y_list).reshape((-1, 1))\n",
    "X.shape, y.shape"
   ]
  },
  {
   "cell_type": "code",
   "execution_count": 394,
   "id": "ac94827f",
   "metadata": {},
   "outputs": [],
   "source": [
    "X_train, X_test, y_train, y_test = train_test_split(X, y, test_size=0.2, random_state=42)"
   ]
  },
  {
   "cell_type": "code",
   "execution_count": 395,
   "id": "6f00a401",
   "metadata": {},
   "outputs": [
    {
     "data": {
      "text/plain": [
       "((5, 1), (5, 1), (20, 1), (20, 1))"
      ]
     },
     "execution_count": 395,
     "metadata": {},
     "output_type": "execute_result"
    }
   ],
   "source": [
    "X_test.shape, y_test.shape, X_train.shape, y_train.shape"
   ]
  },
  {
   "cell_type": "code",
   "execution_count": 396,
   "id": "cdefa1f5",
   "metadata": {},
   "outputs": [
    {
     "name": "stdout",
     "output_type": "stream",
     "text": [
      "Model: \"sequential_21\"\n",
      "_________________________________________________________________\n",
      " Layer (type)                Output Shape              Param #   \n",
      "=================================================================\n",
      " dense_14 (Dense)            (None, 128)               256       \n",
      "                                                                 \n",
      " dense_15 (Dense)            (None, 64)                8256      \n",
      "                                                                 \n",
      " dense_16 (Dense)            (None, 1)                 65        \n",
      "                                                                 \n",
      "=================================================================\n",
      "Total params: 8577 (33.50 KB)\n",
      "Trainable params: 8577 (33.50 KB)\n",
      "Non-trainable params: 0 (0.00 Byte)\n",
      "_________________________________________________________________\n"
     ]
    }
   ],
   "source": [
    "model.summary()"
   ]
  },
  {
   "cell_type": "code",
   "execution_count": 397,
   "id": "927dc9dd",
   "metadata": {},
   "outputs": [
    {
     "name": "stdout",
     "output_type": "stream",
     "text": [
      "Epoch 1/10\n",
      "1/1 [==============================] - 1s 1s/step - loss: 0.0000e+00 - accuracy: 0.4500 - val_loss: 0.0000e+00 - val_accuracy: 0.2000\n",
      "Epoch 2/10\n",
      "1/1 [==============================] - 0s 75ms/step - loss: 0.0000e+00 - accuracy: 0.4500 - val_loss: 0.0000e+00 - val_accuracy: 0.2000\n",
      "Epoch 3/10\n",
      "1/1 [==============================] - 0s 66ms/step - loss: 0.0000e+00 - accuracy: 0.4500 - val_loss: 0.0000e+00 - val_accuracy: 0.2000\n",
      "Epoch 4/10\n",
      "1/1 [==============================] - 0s 68ms/step - loss: 0.0000e+00 - accuracy: 0.4500 - val_loss: 0.0000e+00 - val_accuracy: 0.8000\n",
      "Epoch 5/10\n",
      "1/1 [==============================] - 0s 82ms/step - loss: 0.0000e+00 - accuracy: 0.5500 - val_loss: 0.0000e+00 - val_accuracy: 0.8000\n",
      "Epoch 6/10\n",
      "1/1 [==============================] - 0s 66ms/step - loss: 0.0000e+00 - accuracy: 0.5500 - val_loss: 0.0000e+00 - val_accuracy: 0.8000\n",
      "Epoch 7/10\n",
      "1/1 [==============================] - 0s 63ms/step - loss: 0.0000e+00 - accuracy: 0.5500 - val_loss: 0.0000e+00 - val_accuracy: 0.8000\n",
      "Epoch 8/10\n",
      "1/1 [==============================] - 0s 60ms/step - loss: 0.0000e+00 - accuracy: 0.5500 - val_loss: 0.0000e+00 - val_accuracy: 0.8000\n",
      "Epoch 9/10\n",
      "1/1 [==============================] - 0s 65ms/step - loss: 0.0000e+00 - accuracy: 0.5500 - val_loss: 0.0000e+00 - val_accuracy: 0.8000\n",
      "Epoch 10/10\n",
      "1/1 [==============================] - 0s 59ms/step - loss: 0.0000e+00 - accuracy: 0.5500 - val_loss: 0.0000e+00 - val_accuracy: 0.8000\n"
     ]
    },
    {
     "data": {
      "text/plain": [
       "<keras.src.callbacks.History at 0x22e4a6fee90>"
      ]
     },
     "execution_count": 397,
     "metadata": {},
     "output_type": "execute_result"
    }
   ],
   "source": [
    "\n",
    "# Define your sequential model\n",
    "model = Sequential()\n",
    "\n",
    "# Add layers to your model\n",
    "model.add(Dense(128, activation='relu', input_shape=(1,)))  # Adjust input shape\n",
    "model.add(Dense(64, activation='relu'))   # Add another dense layer\n",
    "model.add(Dense(1, activation='sigmoid'))  # Add the output layer with sigmoid activation for binary classification\n",
    "\n",
    "# Compile your model\n",
    "model.compile(optimizer='adam', loss='categorical_crossentropy', metrics=['accuracy'])\n",
    "\n",
    "# Train your model\n",
    "model.fit(X_train, y_train, epochs=10, batch_size=32, validation_data=(X_test, y_test))\n"
   ]
  },
  {
   "cell_type": "code",
   "execution_count": 398,
   "id": "a090c628",
   "metadata": {},
   "outputs": [],
   "source": [
    "AcuuracyTest = model.evaluate(X_test, y_test, verbose=0)"
   ]
  },
  {
   "cell_type": "code",
   "execution_count": 401,
   "id": "fbd9ce31",
   "metadata": {},
   "outputs": [
    {
     "data": {
      "text/plain": [
       "80.0000011920929"
      ]
     },
     "execution_count": 401,
     "metadata": {},
     "output_type": "execute_result"
    }
   ],
   "source": [
    "AcuuracyTest[1] * 100"
   ]
  },
  {
   "cell_type": "code",
   "execution_count": null,
   "id": "da29288b",
   "metadata": {},
   "outputs": [],
   "source": []
  }
 ],
 "metadata": {
  "kernelspec": {
   "display_name": "Python 3 (ipykernel)",
   "language": "python",
   "name": "python3"
  },
  "language_info": {
   "codemirror_mode": {
    "name": "ipython",
    "version": 3
   },
   "file_extension": ".py",
   "mimetype": "text/x-python",
   "name": "python",
   "nbconvert_exporter": "python",
   "pygments_lexer": "ipython3",
   "version": "3.11.4"
  }
 },
 "nbformat": 4,
 "nbformat_minor": 5
}
