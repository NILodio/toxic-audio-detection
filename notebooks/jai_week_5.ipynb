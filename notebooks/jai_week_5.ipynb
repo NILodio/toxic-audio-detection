{
 "cells": [
  {
   "cell_type": "code",
   "execution_count": 2,
   "id": "f9c2bd84-5e72-4313-b205-41e8d025c8aa",
   "metadata": {},
   "outputs": [],
   "source": [
    "import pandas as pd"
   ]
  },
  {
   "cell_type": "code",
   "execution_count": 3,
   "id": "a2c88278-53be-4888-ab05-3c4077930464",
   "metadata": {},
   "outputs": [],
   "source": [
    "#this is just file "
   ]
  },
  {
   "cell_type": "code",
   "execution_count": null,
   "id": "aac51673-c7cd-4082-8717-0229e37598b9",
   "metadata": {},
   "outputs": [],
   "source": []
  }
 ],
 "metadata": {
  "kernelspec": {
   "display_name": "Python 3 (ipykernel)",
   "language": "python",
   "name": "python3"
  },
  "language_info": {
   "codemirror_mode": {
    "name": "ipython",
    "version": 3
   },
   "file_extension": ".py",
   "mimetype": "text/x-python",
   "name": "python",
   "nbconvert_exporter": "python",
   "pygments_lexer": "ipython3",
   "version": "3.10.13"
  }
 },
 "nbformat": 4,
 "nbformat_minor": 5
}
