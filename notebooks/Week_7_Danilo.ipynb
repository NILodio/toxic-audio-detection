{
 "cells": [
  {
   "cell_type": "code",
   "execution_count": 2,
   "id": "85d3557d-7f3c-4578-8f56-2d418e77d23f",
   "metadata": {},
   "outputs": [],
   "source": [
    "import os\n",
    "import numpy as np \n",
    "import pandas as pd \n",
    "import warnings\n",
    "warnings.filterwarnings('ignore')"
   ]
  },
  {
   "cell_type": "markdown",
   "id": "7c504309-cdb1-4fb8-81ac-005d7cf46620",
   "metadata": {},
   "source": [
    "### Loading metadata input."
   ]
  },
  {
   "cell_type": "code",
   "execution_count": 3,
   "id": "7075cb83-26fb-4e33-bd28-d8d079ad9ef3",
   "metadata": {},
   "outputs": [],
   "source": [
    "metal_excel_dir = \"../data/raw/VSD.xlsx\"\n",
    "metadata = pd.read_excel(metal_excel_dir,sheet_name='read_dataset')"
   ]
  },
  {
   "cell_type": "markdown",
   "id": "c1345fae-b1b9-411f-88a4-f77d56438ac3",
   "metadata": {},
   "source": [
    "#### Head"
   ]
  },
  {
   "cell_type": "code",
   "execution_count": 4,
   "id": "f0d48f5e-deeb-4c21-9481-2c2986e4397f",
   "metadata": {},
   "outputs": [
    {
     "data": {
      "text/html": [
       "<div>\n",
       "<style scoped>\n",
       "    .dataframe tbody tr th:only-of-type {\n",
       "        vertical-align: middle;\n",
       "    }\n",
       "\n",
       "    .dataframe tbody tr th {\n",
       "        vertical-align: top;\n",
       "    }\n",
       "\n",
       "    .dataframe thead th {\n",
       "        text-align: right;\n",
       "    }\n",
       "</style>\n",
       "<table border=\"1\" class=\"dataframe\">\n",
       "  <thead>\n",
       "    <tr style=\"text-align: right;\">\n",
       "      <th></th>\n",
       "      <th>File_segment_name</th>\n",
       "      <th>Duration</th>\n",
       "      <th>Violence_start</th>\n",
       "      <th>Violence_end</th>\n",
       "      <th>Violence_duration</th>\n",
       "    </tr>\n",
       "  </thead>\n",
       "  <tbody>\n",
       "    <tr>\n",
       "      <th>0</th>\n",
       "      <td>angry_011</td>\n",
       "      <td>117.0</td>\n",
       "      <td>21.0</td>\n",
       "      <td>38.0</td>\n",
       "      <td>17.0</td>\n",
       "    </tr>\n",
       "    <tr>\n",
       "      <th>1</th>\n",
       "      <td>angry_011</td>\n",
       "      <td>117.0</td>\n",
       "      <td>40.0</td>\n",
       "      <td>55.0</td>\n",
       "      <td>15.0</td>\n",
       "    </tr>\n",
       "    <tr>\n",
       "      <th>2</th>\n",
       "      <td>angry_011</td>\n",
       "      <td>117.0</td>\n",
       "      <td>60.0</td>\n",
       "      <td>79.0</td>\n",
       "      <td>19.0</td>\n",
       "    </tr>\n",
       "    <tr>\n",
       "      <th>3</th>\n",
       "      <td>angry_011</td>\n",
       "      <td>117.0</td>\n",
       "      <td>85.0</td>\n",
       "      <td>95.0</td>\n",
       "      <td>10.0</td>\n",
       "    </tr>\n",
       "    <tr>\n",
       "      <th>4</th>\n",
       "      <td>angry_011</td>\n",
       "      <td>117.0</td>\n",
       "      <td>101.0</td>\n",
       "      <td>110.0</td>\n",
       "      <td>9.0</td>\n",
       "    </tr>\n",
       "  </tbody>\n",
       "</table>\n",
       "</div>"
      ],
      "text/plain": [
       "  File_segment_name  Duration  Violence_start  Violence_end  Violence_duration\n",
       "0         angry_011     117.0            21.0          38.0               17.0\n",
       "1         angry_011     117.0            40.0          55.0               15.0\n",
       "2         angry_011     117.0            60.0          79.0               19.0\n",
       "3         angry_011     117.0            85.0          95.0               10.0\n",
       "4         angry_011     117.0           101.0         110.0                9.0"
      ]
     },
     "execution_count": 4,
     "metadata": {},
     "output_type": "execute_result"
    }
   ],
   "source": [
    "metadata.head()"
   ]
  },
  {
   "cell_type": "markdown",
   "id": "7d22d60f-44b7-434a-b5a8-6dda0d1ba41e",
   "metadata": {},
   "source": [
    "#### Tail"
   ]
  },
  {
   "cell_type": "code",
   "execution_count": 5,
   "id": "3e22d6da-d20f-4bc9-a018-89802149b7f0",
   "metadata": {},
   "outputs": [
    {
     "data": {
      "text/html": [
       "<div>\n",
       "<style scoped>\n",
       "    .dataframe tbody tr th:only-of-type {\n",
       "        vertical-align: middle;\n",
       "    }\n",
       "\n",
       "    .dataframe tbody tr th {\n",
       "        vertical-align: top;\n",
       "    }\n",
       "\n",
       "    .dataframe thead th {\n",
       "        text-align: right;\n",
       "    }\n",
       "</style>\n",
       "<table border=\"1\" class=\"dataframe\">\n",
       "  <thead>\n",
       "    <tr style=\"text-align: right;\">\n",
       "      <th></th>\n",
       "      <th>File_segment_name</th>\n",
       "      <th>Duration</th>\n",
       "      <th>Violence_start</th>\n",
       "      <th>Violence_end</th>\n",
       "      <th>Violence_duration</th>\n",
       "    </tr>\n",
       "  </thead>\n",
       "  <tbody>\n",
       "    <tr>\n",
       "      <th>336</th>\n",
       "      <td>angry_211</td>\n",
       "      <td>149.0</td>\n",
       "      <td>108.014</td>\n",
       "      <td>121.203</td>\n",
       "      <td>13.189</td>\n",
       "    </tr>\n",
       "    <tr>\n",
       "      <th>337</th>\n",
       "      <td>noviolence_01</td>\n",
       "      <td>4939.0</td>\n",
       "      <td>0.000</td>\n",
       "      <td>0.010</td>\n",
       "      <td>0.010</td>\n",
       "    </tr>\n",
       "    <tr>\n",
       "      <th>338</th>\n",
       "      <td>noviolence_02</td>\n",
       "      <td>4476.0</td>\n",
       "      <td>0.000</td>\n",
       "      <td>0.010</td>\n",
       "      <td>0.010</td>\n",
       "    </tr>\n",
       "    <tr>\n",
       "      <th>339</th>\n",
       "      <td>noviolence_03</td>\n",
       "      <td>4966.0</td>\n",
       "      <td>0.000</td>\n",
       "      <td>0.010</td>\n",
       "      <td>0.010</td>\n",
       "    </tr>\n",
       "    <tr>\n",
       "      <th>340</th>\n",
       "      <td>noviolence_04</td>\n",
       "      <td>3731.0</td>\n",
       "      <td>0.000</td>\n",
       "      <td>0.010</td>\n",
       "      <td>0.010</td>\n",
       "    </tr>\n",
       "  </tbody>\n",
       "</table>\n",
       "</div>"
      ],
      "text/plain": [
       "    File_segment_name  Duration  Violence_start  Violence_end  \\\n",
       "336         angry_211     149.0         108.014       121.203   \n",
       "337     noviolence_01    4939.0           0.000         0.010   \n",
       "338     noviolence_02    4476.0           0.000         0.010   \n",
       "339     noviolence_03    4966.0           0.000         0.010   \n",
       "340     noviolence_04    3731.0           0.000         0.010   \n",
       "\n",
       "     Violence_duration  \n",
       "336             13.189  \n",
       "337              0.010  \n",
       "338              0.010  \n",
       "339              0.010  \n",
       "340              0.010  "
      ]
     },
     "execution_count": 5,
     "metadata": {},
     "output_type": "execute_result"
    }
   ],
   "source": [
    "metadata.tail()"
   ]
  },
  {
   "cell_type": "markdown",
   "id": "04be88c8-3d4f-44ce-b480-24b19719df0d",
   "metadata": {},
   "source": [
    "Examine the segmentation of our data to ensure accuracy. Some audio files are labeled with the identifiers yaf_angry_ and noviolence_, indicating the type of segment present in the audio."
   ]
  },
  {
   "cell_type": "code",
   "execution_count": 6,
   "id": "d24eec99-b4d1-4ed8-8cae-8b628441b899",
   "metadata": {},
   "outputs": [
    {
     "data": {
      "text/plain": [
       "array(['angry_011', 'angry_012', 'angry_013', 'angry_014', 'angry_015',\n",
       "       'angry_016', 'angry_017', 'angry_018', 'angry_021', 'angry_022',\n",
       "       'angry_023', 'angry_024', 'angry_025', 'angry_026', 'angry_027',\n",
       "       'angry_028', 'angry_031', 'angry_032', 'angry_033', 'angry_034',\n",
       "       'angry_035', 'angry_036', 'angry_037', 'angry_038', 'angry_039',\n",
       "       'angry_041', 'angry_042', 'angry_043', 'angry_044', 'angry_045',\n",
       "       'angry_046', 'angry_047', 'angry_048', 'angry_049', 'angry_049a',\n",
       "       'angry_049b', 'angry_051', 'angry_052', 'angry_053', 'angry_054',\n",
       "       'angry_055', 'angry_056', 'angry_057', 'angry_058', 'angry_059',\n",
       "       'angry_061', 'angry_062', 'angry_063', 'angry_064', 'angry_065',\n",
       "       'angry_066', 'angry_067', 'angry_071', 'angry_072', 'angry_073',\n",
       "       'angry_074', 'angry_075', 'angry_076', 'angry_077', 'angry_081',\n",
       "       'angry_082', 'angry_083', 'angry_084', 'angry_085', 'angry_086',\n",
       "       'angry_091', 'angry_092', 'angry_093', 'angry_094', 'angry_095',\n",
       "       'angry_101', 'angry_102', 'angry_103', 'angry_104', 'angry_111',\n",
       "       'angry_112', 'angry_113', 'angry_121', 'angry_122', 'angry_131',\n",
       "       'angry_132', 'angry_133', 'angry_134', 'angry_141', 'angry_142',\n",
       "       'angry_143', 'angry_144', 'angry_145', 'angry_151', 'angry_152',\n",
       "       'angry_153', 'angry_161', 'angry_162', 'angry_171', 'angry_181',\n",
       "       'angry_182', 'angry_191', 'angry_192', 'angry_193', 'angry_201',\n",
       "       'angry_202', 'angry_203', 'angry_204', 'angry_205', 'angry_211',\n",
       "       'noviolence_01', 'noviolence_02', 'noviolence_03', 'noviolence_04'],\n",
       "      dtype=object)"
      ]
     },
     "execution_count": 6,
     "metadata": {},
     "output_type": "execute_result"
    }
   ],
   "source": [
    "# Get unique values in the columns File_segment_name\n",
    "metadata['File_segment_name'].unique()\n"
   ]
  },
  {
   "cell_type": "code",
   "execution_count": 7,
   "id": "9e77b257-0d5b-4f6e-947c-0d482d4ac554",
   "metadata": {},
   "outputs": [
    {
     "data": {
      "text/plain": [
       "(341, 5)"
      ]
     },
     "execution_count": 7,
     "metadata": {},
     "output_type": "execute_result"
    }
   ],
   "source": [
    "metadata.shape"
   ]
  },
  {
   "cell_type": "code",
   "execution_count": 8,
   "id": "faadbb29-0c89-4e96-9a8e-76071412155a",
   "metadata": {},
   "outputs": [],
   "source": [
    "# Creating directory paths to store violence and non-violence data.\n",
    "violence_dir = \"../data/violence_data\"\n",
    "non_violence_dir = \"../data/non_violence_data\""
   ]
  },
  {
   "cell_type": "code",
   "execution_count": 9,
   "id": "22210e6c-65ed-4996-97c8-baf17de28de7",
   "metadata": {},
   "outputs": [],
   "source": [
    "def create_directory(directory_path):\n",
    "    # Check if the directory already exists\n",
    "    if not os.path.exists(directory_path):\n",
    "        # Create the directory if it doesn't exist\n",
    "        os.makedirs(directory_path)\n",
    "        print(f\"Directory '{directory_path}' created successfully.\")\n",
    "    else:\n",
    "        print(f\"Directory '{directory_path}' already exists.\")"
   ]
  },
  {
   "cell_type": "code",
   "execution_count": 10,
   "id": "f6ef0cff-fdd8-455a-aff7-f6a1a4bf36f0",
   "metadata": {},
   "outputs": [
    {
     "name": "stdout",
     "output_type": "stream",
     "text": [
      "Directory '../data/violence_data' already exists.\n",
      "Directory '../data/non_violence_data' already exists.\n"
     ]
    }
   ],
   "source": [
    "create_directory(violence_dir)\n",
    "create_directory(non_violence_dir)\n"
   ]
  },
  {
   "cell_type": "code",
   "execution_count": 11,
   "id": "463099e6-8d39-42e0-a6f6-41676fffe30b",
   "metadata": {},
   "outputs": [
    {
     "name": "stdout",
     "output_type": "stream",
     "text": [
      "===== Violent audio segments separated =====\n",
      "===== Non-violent audio segments separated =====\n"
     ]
    }
   ],
   "source": [
    "# We have segments of audio in our data, Hence importing pydub to process segments.\n",
    "from pydub import AudioSegment\n",
    "\n",
    "# Looping over all the records in metadata input.\n",
    "for record in metadata.values:\n",
    "    t1 = 1000 * record[2]\n",
    "    t2 = 1000 * record[3]\n",
    "    audio  = AudioSegment.from_wav(os.path.join(\"../data/raw/audios_VSD/audios_VSD\", str(record[0]) + \".wav\"))\n",
    "    violence_segment = audio[t1:t2]\n",
    "    # Storing the violence audio segment in the corresponding directory.\n",
    "    violence_segment.export(os.path.join(violence_dir,record[0]+\".wav\"))\n",
    "    \n",
    "print(\"===== Violent audio segments separated =====\")\n",
    "\n",
    "for record in metadata.values:\n",
    "    t1 = 1000 * record[2]\n",
    "    t2 = 1000 * record[3]\n",
    "    audio  = AudioSegment.from_wav(os.path.join(\"../data/raw/audios_VSD/audios_VSD\", str(record[0]) + \".wav\"))\n",
    "    non_violence_segment = audio[0:t1]\n",
    "    non_violence_segment.export(os.path.join(non_violence_dir,record[0]+\"_non_violence.wav\"))\n",
    "\n",
    "print(\"===== Non-violent audio segments separated =====\")"
   ]
  },
  {
   "cell_type": "code",
   "execution_count": 11,
   "id": "b8058990-d619-4c56-a9d2-283159308d1b",
   "metadata": {},
   "outputs": [],
   "source": [
    "# Importing Librosa to extract audio features.\n",
    "import librosa\n",
    "\n",
    "# Function to extract MFCC (Mel Frequency Cepstral Coefficients) from the audio sample.\n",
    "def features_extractor(file):\n",
    "    audio, sample_rate = librosa.load(file) \n",
    "    mfccs_features = librosa.feature.mfcc(y=audio, sr=sample_rate, n_mfcc=40)\n",
    "    # We do mean of transpose of value to find out scaled feature.\n",
    "    mfccs_scaled_features = np.mean(mfccs_features.T,axis=0)\n",
    "    return mfccs_scaled_features"
   ]
  },
  {
   "cell_type": "code",
   "execution_count": 12,
   "id": "c12bd2fd-104d-4bd8-9d9e-2e4bb661835a",
   "metadata": {},
   "outputs": [
    {
     "name": "stdout",
     "output_type": "stream",
     "text": [
      "===== Successfully extracted violent audio data =====\n"
     ]
    },
    {
     "name": "stderr",
     "output_type": "stream",
     "text": [
      "[src/libmpg123/parse.c:do_readahead():1099] warning: Cannot read next header, a one-frame stream? Duh...\n",
      "[src/libmpg123/parse.c:do_readahead():1099] warning: Cannot read next header, a one-frame stream? Duh...\n",
      "[src/libmpg123/parse.c:do_readahead():1099] warning: Cannot read next header, a one-frame stream? Duh...\n",
      "[src/libmpg123/parse.c:do_readahead():1099] warning: Cannot read next header, a one-frame stream? Duh...\n",
      "[src/libmpg123/parse.c:do_readahead():1099] warning: Cannot read next header, a one-frame stream? Duh...\n",
      "[src/libmpg123/parse.c:do_readahead():1099] warning: Cannot read next header, a one-frame stream? Duh...\n",
      "[src/libmpg123/parse.c:do_readahead():1099] warning: Cannot read next header, a one-frame stream? Duh...\n",
      "[src/libmpg123/parse.c:do_readahead():1099] warning: Cannot read next header, a one-frame stream? Duh...\n",
      "[src/libmpg123/parse.c:do_readahead():1099] warning: Cannot read next header, a one-frame stream? Duh...\n",
      "[src/libmpg123/parse.c:do_readahead():1099] warning: Cannot read next header, a one-frame stream? Duh...\n",
      "[src/libmpg123/parse.c:do_readahead():1099] warning: Cannot read next header, a one-frame stream? Duh...\n",
      "[src/libmpg123/parse.c:do_readahead():1099] warning: Cannot read next header, a one-frame stream? Duh...\n",
      "[src/libmpg123/parse.c:do_readahead():1099] warning: Cannot read next header, a one-frame stream? Duh...\n",
      "[src/libmpg123/parse.c:do_readahead():1099] warning: Cannot read next header, a one-frame stream? Duh...\n",
      "[src/libmpg123/parse.c:do_readahead():1099] warning: Cannot read next header, a one-frame stream? Duh...\n",
      "[src/libmpg123/parse.c:do_readahead():1099] warning: Cannot read next header, a one-frame stream? Duh...\n",
      "[src/libmpg123/parse.c:do_readahead():1099] warning: Cannot read next header, a one-frame stream? Duh...\n",
      "[src/libmpg123/parse.c:do_readahead():1099] warning: Cannot read next header, a one-frame stream? Duh...\n",
      "[src/libmpg123/parse.c:do_readahead():1099] warning: Cannot read next header, a one-frame stream? Duh...\n",
      "[src/libmpg123/parse.c:do_readahead():1099] warning: Cannot read next header, a one-frame stream? Duh...\n",
      "[src/libmpg123/parse.c:do_readahead():1099] warning: Cannot read next header, a one-frame stream? Duh...\n",
      "[src/libmpg123/parse.c:do_readahead():1099] warning: Cannot read next header, a one-frame stream? Duh...\n",
      "[src/libmpg123/parse.c:do_readahead():1099] warning: Cannot read next header, a one-frame stream? Duh...\n",
      "[src/libmpg123/parse.c:do_readahead():1099] warning: Cannot read next header, a one-frame stream? Duh...\n",
      "[src/libmpg123/parse.c:do_readahead():1099] warning: Cannot read next header, a one-frame stream? Duh...\n"
     ]
    },
    {
     "name": "stdout",
     "output_type": "stream",
     "text": [
      "===== Successfully extracted non-violent audio data =====\n"
     ]
    },
    {
     "name": "stderr",
     "output_type": "stream",
     "text": [
      "[src/libmpg123/parse.c:do_readahead():1099] warning: Cannot read next header, a one-frame stream? Duh...\n"
     ]
    }
   ],
   "source": [
    "# Creating empty list to store the extracted features.\n",
    "extracted_features=[]\n",
    "\n",
    "# Loop to process violent data extraction process.\n",
    "for record in metadata.values:\n",
    "    file_name = os.path.join(os.path.abspath(violence_dir), record[0] + \".wav\")\n",
    "    # Labelling violent audio as 1.\n",
    "    final_class_labels = 1 \n",
    "    try:\n",
    "        data = features_extractor(file_name)\n",
    "    except:\n",
    "        continue\n",
    "    extracted_features.append([data,final_class_labels])\n",
    "print(\"===== Successfully extracted violent audio data =====\")\n",
    "\n",
    "# Loop to process non-violent data extraction process.\n",
    "for record in metadata.values:\n",
    "    file_name = os.path.join(os.path.abspath(non_violence_dir),record[0]+\"_non_violence.wav\")\n",
    "    # Labelling non-violent audio as 0.\n",
    "    final_class_labels = 0\n",
    "    try:\n",
    "        data = features_extractor(file_name)\n",
    "    except:\n",
    "        continue\n",
    "    extracted_features.append([data,final_class_labels])\n",
    "print(\"===== Successfully extracted non-violent audio data =====\")"
   ]
  },
  {
   "cell_type": "code",
   "execution_count": 24,
   "id": "1ce80ef6",
   "metadata": {},
   "outputs": [
    {
     "data": {
      "text/html": [
       "<div>\n",
       "<style scoped>\n",
       "    .dataframe tbody tr th:only-of-type {\n",
       "        vertical-align: middle;\n",
       "    }\n",
       "\n",
       "    .dataframe tbody tr th {\n",
       "        vertical-align: top;\n",
       "    }\n",
       "\n",
       "    .dataframe thead th {\n",
       "        text-align: right;\n",
       "    }\n",
       "</style>\n",
       "<table border=\"1\" class=\"dataframe\">\n",
       "  <thead>\n",
       "    <tr style=\"text-align: right;\">\n",
       "      <th></th>\n",
       "      <th>feature</th>\n",
       "      <th>class</th>\n",
       "    </tr>\n",
       "  </thead>\n",
       "  <tbody>\n",
       "    <tr>\n",
       "      <th>651</th>\n",
       "      <td>[-368.19443, 111.970695, -13.860407, 17.634977...</td>\n",
       "      <td>0</td>\n",
       "    </tr>\n",
       "    <tr>\n",
       "      <th>652</th>\n",
       "      <td>[-215.53848, 125.501945, -43.539345, 34.04715,...</td>\n",
       "      <td>0</td>\n",
       "    </tr>\n",
       "    <tr>\n",
       "      <th>653</th>\n",
       "      <td>[-215.53848, 125.501945, -43.539345, 34.04715,...</td>\n",
       "      <td>0</td>\n",
       "    </tr>\n",
       "    <tr>\n",
       "      <th>654</th>\n",
       "      <td>[-215.53848, 125.501945, -43.539345, 34.04715,...</td>\n",
       "      <td>0</td>\n",
       "    </tr>\n",
       "    <tr>\n",
       "      <th>655</th>\n",
       "      <td>[-215.53848, 125.501945, -43.539345, 34.04715,...</td>\n",
       "      <td>0</td>\n",
       "    </tr>\n",
       "  </tbody>\n",
       "</table>\n",
       "</div>"
      ],
      "text/plain": [
       "                                               feature  class\n",
       "651  [-368.19443, 111.970695, -13.860407, 17.634977...      0\n",
       "652  [-215.53848, 125.501945, -43.539345, 34.04715,...      0\n",
       "653  [-215.53848, 125.501945, -43.539345, 34.04715,...      0\n",
       "654  [-215.53848, 125.501945, -43.539345, 34.04715,...      0\n",
       "655  [-215.53848, 125.501945, -43.539345, 34.04715,...      0"
      ]
     },
     "execution_count": 24,
     "metadata": {},
     "output_type": "execute_result"
    }
   ],
   "source": [
    "# Converting extracted_features to Pandas dataframe.\n",
    "extracted_features_df = pd.DataFrame(extracted_features,columns=['feature','class'])\n",
    "extracted_features_df.tail()"
   ]
  },
  {
   "cell_type": "code",
   "execution_count": 16,
   "id": "39e4d655",
   "metadata": {},
   "outputs": [
    {
     "data": {
      "text/plain": [
       "class\n",
       "1    341\n",
       "0    315\n",
       "Name: count, dtype: int64"
      ]
     },
     "execution_count": 16,
     "metadata": {},
     "output_type": "execute_result"
    }
   ],
   "source": [
    "# Checking Value counts.\n",
    "extracted_features_df[\"class\"].value_counts()"
   ]
  },
  {
   "cell_type": "code",
   "execution_count": 17,
   "id": "7c30e3d0",
   "metadata": {},
   "outputs": [],
   "source": [
    "# Split the dataset into independent and dependent dataset.\n",
    "X = np.array(extracted_features_df[\"feature\"].tolist())\n",
    "y = np.array(extracted_features_df[\"class\"].tolist())\n",
    "\n",
    "# Train Test Split.\n",
    "from sklearn.model_selection import train_test_split\n",
    "X_train,X_test,y_train,y_test=train_test_split(X,y,test_size=0.1,random_state=42)"
   ]
  },
  {
   "cell_type": "code",
   "execution_count": 18,
   "id": "9abec329",
   "metadata": {},
   "outputs": [
    {
     "name": "stdout",
     "output_type": "stream",
     "text": [
      "(590, 40) (66, 40)\n"
     ]
    }
   ],
   "source": [
    "print(X_train.shape, X_test.shape)"
   ]
  },
  {
   "cell_type": "code",
   "execution_count": 22,
   "id": "6486d2af",
   "metadata": {},
   "outputs": [
    {
     "name": "stdout",
     "output_type": "stream",
     "text": [
      "(590, 1, 40) (66, 1, 40)\n"
     ]
    }
   ],
   "source": [
    "# Reshaping to make the datasets compatible with LSTM.\n",
    "X_train=X_train.reshape(590,1,40)\n",
    "X_test=X_test.reshape(66,1, 40)\n",
    "print(X_train.shape, X_test.shape)"
   ]
  },
  {
   "cell_type": "code",
   "execution_count": 27,
   "id": "3a873b7e",
   "metadata": {},
   "outputs": [
    {
     "name": "stderr",
     "output_type": "stream",
     "text": [
      "2024-02-21 21:31:56.629195: I tensorflow/core/common_runtime/executor.cc:1197] [/device:CPU:0] (DEBUG INFO) Executor start aborting (this does not indicate an error and you can ignore this message): INVALID_ARGUMENT: You must feed a value for placeholder tensor 'gradients/split_2_grad/concat/split_2/split_dim' with dtype int32\n",
      "\t [[{{node gradients/split_2_grad/concat/split_2/split_dim}}]]\n",
      "2024-02-21 21:31:56.630651: I tensorflow/core/common_runtime/executor.cc:1197] [/device:CPU:0] (DEBUG INFO) Executor start aborting (this does not indicate an error and you can ignore this message): INVALID_ARGUMENT: You must feed a value for placeholder tensor 'gradients/split_grad/concat/split/split_dim' with dtype int32\n",
      "\t [[{{node gradients/split_grad/concat/split/split_dim}}]]\n",
      "2024-02-21 21:31:56.631889: I tensorflow/core/common_runtime/executor.cc:1197] [/device:CPU:0] (DEBUG INFO) Executor start aborting (this does not indicate an error and you can ignore this message): INVALID_ARGUMENT: You must feed a value for placeholder tensor 'gradients/split_1_grad/concat/split_1/split_dim' with dtype int32\n",
      "\t [[{{node gradients/split_1_grad/concat/split_1/split_dim}}]]\n"
     ]
    }
   ],
   "source": [
    "from tensorflow.keras.models import Sequential\n",
    "from tensorflow.keras.layers import Dense,Dropout,Activation,Flatten,SimpleRNN, LSTM\n",
    "from tensorflow.keras.optimizers import Adam\n",
    "from sklearn import metrics\n",
    "\n",
    "# No of classes.\n",
    "num_labels=y.shape[0]\n",
    "model=Sequential()\n",
    "model.add(LSTM(64,input_shape=(1,40)))\n",
    "\n",
    "### 1st layer.\n",
    "model.add(Dense(32))\n",
    "#model.add(Activation('relu'))\n",
    "#model.add(Dropout(0.5))\n",
    "\n",
    "### 2nd layer.\n",
    "#model.add(Dense(128))\n",
    "#model.add(Activation('relu'))\n",
    "#model.add(Dropout(0.4))\n",
    "\n",
    "### 3rd layer.\n",
    "#model.add(Dense(64))\n",
    "#model.add(Activation('relu'))\n",
    "#model.add(Dropout(0.5))\n",
    "\n",
    "### 4th layer.\n",
    "#model.add(Dense(32))\n",
    "#model.add(Activation('relu'))\n",
    "\n",
    "### 5th layer.\n",
    "#model.add(Dense(16))\n",
    "#model.add(Activation('relu'))\n",
    "\n",
    "### 6th layer.\n",
    "#model.add(Dense(8))\n",
    "#model.add(Activation('relu'))\n",
    "\n",
    "### Final layer.\n",
    "model.add(Dense(1))\n",
    "model.add(Activation('sigmoid'))"
   ]
  },
  {
   "cell_type": "code",
   "execution_count": 28,
   "id": "629d091e",
   "metadata": {},
   "outputs": [
    {
     "name": "stdout",
     "output_type": "stream",
     "text": [
      "Model: \"sequential\"\n",
      "_________________________________________________________________\n",
      " Layer (type)                Output Shape              Param #   \n",
      "=================================================================\n",
      " lstm (LSTM)                 (None, 64)                26880     \n",
      "                                                                 \n",
      " dense (Dense)               (None, 32)                2080      \n",
      "                                                                 \n",
      " dense_1 (Dense)             (None, 1)                 33        \n",
      "                                                                 \n",
      " activation (Activation)     (None, 1)                 0         \n",
      "                                                                 \n",
      "=================================================================\n",
      "Total params: 28,993\n",
      "Trainable params: 28,993\n",
      "Non-trainable params: 0\n",
      "_________________________________________________________________\n"
     ]
    }
   ],
   "source": [
    "model.summary()"
   ]
  },
  {
   "cell_type": "code",
   "execution_count": 29,
   "id": "c28b053d",
   "metadata": {},
   "outputs": [],
   "source": [
    "# Model Compilation.\n",
    "model.compile(loss='binary_crossentropy',metrics=['accuracy'],optimizer='adam')"
   ]
  },
  {
   "cell_type": "code",
   "execution_count": 30,
   "id": "7904b336",
   "metadata": {},
   "outputs": [
    {
     "name": "stdout",
     "output_type": "stream",
     "text": [
      "Epoch 1/10\n"
     ]
    },
    {
     "name": "stderr",
     "output_type": "stream",
     "text": [
      "2024-02-21 21:33:50.086100: I tensorflow/core/common_runtime/executor.cc:1197] [/device:CPU:0] (DEBUG INFO) Executor start aborting (this does not indicate an error and you can ignore this message): INVALID_ARGUMENT: You must feed a value for placeholder tensor 'gradients/split_2_grad/concat/split_2/split_dim' with dtype int32\n",
      "\t [[{{node gradients/split_2_grad/concat/split_2/split_dim}}]]\n",
      "2024-02-21 21:33:50.088067: I tensorflow/core/common_runtime/executor.cc:1197] [/device:CPU:0] (DEBUG INFO) Executor start aborting (this does not indicate an error and you can ignore this message): INVALID_ARGUMENT: You must feed a value for placeholder tensor 'gradients/split_grad/concat/split/split_dim' with dtype int32\n",
      "\t [[{{node gradients/split_grad/concat/split/split_dim}}]]\n",
      "2024-02-21 21:33:50.089594: I tensorflow/core/common_runtime/executor.cc:1197] [/device:CPU:0] (DEBUG INFO) Executor start aborting (this does not indicate an error and you can ignore this message): INVALID_ARGUMENT: You must feed a value for placeholder tensor 'gradients/split_1_grad/concat/split_1/split_dim' with dtype int32\n",
      "\t [[{{node gradients/split_1_grad/concat/split_1/split_dim}}]]\n",
      "2024-02-21 21:33:50.614992: I tensorflow/core/common_runtime/executor.cc:1197] [/device:CPU:0] (DEBUG INFO) Executor start aborting (this does not indicate an error and you can ignore this message): INVALID_ARGUMENT: You must feed a value for placeholder tensor 'gradients/split_2_grad/concat/split_2/split_dim' with dtype int32\n",
      "\t [[{{node gradients/split_2_grad/concat/split_2/split_dim}}]]\n",
      "2024-02-21 21:33:50.616666: I tensorflow/core/common_runtime/executor.cc:1197] [/device:CPU:0] (DEBUG INFO) Executor start aborting (this does not indicate an error and you can ignore this message): INVALID_ARGUMENT: You must feed a value for placeholder tensor 'gradients/split_grad/concat/split/split_dim' with dtype int32\n",
      "\t [[{{node gradients/split_grad/concat/split/split_dim}}]]\n",
      "2024-02-21 21:33:50.618690: I tensorflow/core/common_runtime/executor.cc:1197] [/device:CPU:0] (DEBUG INFO) Executor start aborting (this does not indicate an error and you can ignore this message): INVALID_ARGUMENT: You must feed a value for placeholder tensor 'gradients/split_1_grad/concat/split_1/split_dim' with dtype int32\n",
      "\t [[{{node gradients/split_1_grad/concat/split_1/split_dim}}]]\n"
     ]
    },
    {
     "name": "stdout",
     "output_type": "stream",
     "text": [
      "19/19 [==============================] - ETA: 0s - loss: 0.6350 - accuracy: 0.6661 "
     ]
    },
    {
     "name": "stderr",
     "output_type": "stream",
     "text": [
      "2024-02-21 21:33:51.899158: I tensorflow/core/common_runtime/executor.cc:1197] [/device:CPU:0] (DEBUG INFO) Executor start aborting (this does not indicate an error and you can ignore this message): INVALID_ARGUMENT: You must feed a value for placeholder tensor 'gradients/split_2_grad/concat/split_2/split_dim' with dtype int32\n",
      "\t [[{{node gradients/split_2_grad/concat/split_2/split_dim}}]]\n",
      "2024-02-21 21:33:51.900519: I tensorflow/core/common_runtime/executor.cc:1197] [/device:CPU:0] (DEBUG INFO) Executor start aborting (this does not indicate an error and you can ignore this message): INVALID_ARGUMENT: You must feed a value for placeholder tensor 'gradients/split_grad/concat/split/split_dim' with dtype int32\n",
      "\t [[{{node gradients/split_grad/concat/split/split_dim}}]]\n",
      "2024-02-21 21:33:51.901789: I tensorflow/core/common_runtime/executor.cc:1197] [/device:CPU:0] (DEBUG INFO) Executor start aborting (this does not indicate an error and you can ignore this message): INVALID_ARGUMENT: You must feed a value for placeholder tensor 'gradients/split_1_grad/concat/split_1/split_dim' with dtype int32\n",
      "\t [[{{node gradients/split_1_grad/concat/split_1/split_dim}}]]\n"
     ]
    },
    {
     "name": "stdout",
     "output_type": "stream",
     "text": [
      "\n",
      "Epoch 1: val_loss improved from inf to 0.61196, saving model to ./audio_classification.hdf5\n",
      "19/19 [==============================] - 2s 27ms/step - loss: 0.6350 - accuracy: 0.6661 - val_loss: 0.6120 - val_accuracy: 0.6667\n",
      "Epoch 2/10\n",
      "13/19 [===================>..........] - ETA: 0s - loss: 0.5582 - accuracy: 0.7524\n",
      "Epoch 2: val_loss improved from 0.61196 to 0.52799, saving model to ./audio_classification.hdf5\n",
      "19/19 [==============================] - 0s 9ms/step - loss: 0.5542 - accuracy: 0.7542 - val_loss: 0.5280 - val_accuracy: 0.7121\n",
      "Epoch 3/10\n",
      "17/19 [=========================>....] - ETA: 0s - loss: 0.4941 - accuracy: 0.7757\n",
      "Epoch 3: val_loss improved from 0.52799 to 0.48873, saving model to ./audio_classification.hdf5\n",
      "19/19 [==============================] - 0s 6ms/step - loss: 0.4912 - accuracy: 0.7763 - val_loss: 0.4887 - val_accuracy: 0.6970\n",
      "Epoch 4/10\n",
      "15/19 [======================>.......] - ETA: 0s - loss: 0.4487 - accuracy: 0.8229\n",
      "Epoch 4: val_loss improved from 0.48873 to 0.43320, saving model to ./audio_classification.hdf5\n",
      "19/19 [==============================] - 0s 6ms/step - loss: 0.4413 - accuracy: 0.8237 - val_loss: 0.4332 - val_accuracy: 0.8030\n",
      "Epoch 5/10\n",
      "18/19 [===========================>..] - ETA: 0s - loss: 0.3952 - accuracy: 0.8385\n",
      "Epoch 5: val_loss improved from 0.43320 to 0.39182, saving model to ./audio_classification.hdf5\n",
      "19/19 [==============================] - 0s 5ms/step - loss: 0.3914 - accuracy: 0.8407 - val_loss: 0.3918 - val_accuracy: 0.8939\n",
      "Epoch 6/10\n",
      " 1/19 [>.............................] - ETA: 0s - loss: 0.2370 - accuracy: 0.9688\n",
      "Epoch 6: val_loss improved from 0.39182 to 0.37381, saving model to ./audio_classification.hdf5\n",
      "19/19 [==============================] - 0s 4ms/step - loss: 0.3458 - accuracy: 0.8610 - val_loss: 0.3738 - val_accuracy: 0.8939\n",
      "Epoch 7/10\n",
      " 1/19 [>.............................] - ETA: 0s - loss: 0.2645 - accuracy: 0.9062\n",
      "Epoch 7: val_loss improved from 0.37381 to 0.30504, saving model to ./audio_classification.hdf5\n",
      "19/19 [==============================] - 0s 4ms/step - loss: 0.2997 - accuracy: 0.8983 - val_loss: 0.3050 - val_accuracy: 0.8939\n",
      "Epoch 8/10\n",
      " 1/19 [>.............................] - ETA: 0s - loss: 0.2031 - accuracy: 0.9688\n",
      "Epoch 8: val_loss did not improve from 0.30504\n",
      "19/19 [==============================] - 0s 4ms/step - loss: 0.2634 - accuracy: 0.9339 - val_loss: 0.3150 - val_accuracy: 0.8939\n",
      "Epoch 9/10\n",
      " 1/19 [>.............................] - ETA: 0s - loss: 0.2528 - accuracy: 0.9375\n",
      "Epoch 9: val_loss improved from 0.30504 to 0.29938, saving model to ./audio_classification.hdf5\n",
      "19/19 [==============================] - 0s 5ms/step - loss: 0.2192 - accuracy: 0.9407 - val_loss: 0.2994 - val_accuracy: 0.8788\n",
      "Epoch 10/10\n",
      " 1/19 [>.............................] - ETA: 0s - loss: 0.1989 - accuracy: 0.9375\n",
      "Epoch 10: val_loss improved from 0.29938 to 0.26564, saving model to ./audio_classification.hdf5\n",
      "19/19 [==============================] - 0s 5ms/step - loss: 0.1881 - accuracy: 0.9559 - val_loss: 0.2656 - val_accuracy: 0.8788\n",
      "Training completed in time: 0:00:03.465263\n"
     ]
    }
   ],
   "source": [
    "# Trianing model.\n",
    "from tensorflow.keras.callbacks import ModelCheckpoint\n",
    "from datetime import datetime \n",
    "num_epochs = 10\n",
    "num_batch_size = 32\n",
    "checkpointer = ModelCheckpoint(filepath='./audio_classification.hdf5', verbose=1, save_best_only=True)\n",
    "start = datetime.now()\n",
    "history = model.fit(X_train, y_train, batch_size=num_batch_size, epochs=num_epochs, validation_data=(X_test, y_test), callbacks=[checkpointer], verbose=1)\n",
    "duration = datetime.now() - start\n",
    "print(\"Training completed in time:\", duration)"
   ]
  },
  {
   "cell_type": "code",
   "execution_count": 31,
   "id": "a67bca0b",
   "metadata": {},
   "outputs": [
    {
     "name": "stdout",
     "output_type": "stream",
     "text": [
      "Test accuracy of the model: 0.8787878751754761\n"
     ]
    }
   ],
   "source": [
    "# Evaluating the model on testing data.\n",
    "test_accuracy = model.evaluate(X_test,y_test,verbose=0)\n",
    "print(\"Test accuracy of the model:\", test_accuracy[1])"
   ]
  },
  {
   "cell_type": "code",
   "execution_count": 32,
   "id": "33ba8043",
   "metadata": {},
   "outputs": [
    {
     "name": "stdout",
     "output_type": "stream",
     "text": [
      "Train accuracy of the model: 0.9610169529914856\n"
     ]
    }
   ],
   "source": [
    "# Evaluating the model on training data.\n",
    "train_accuracy = model.evaluate(X_train,y_train,verbose=0)\n",
    "print(\"Train accuracy of the model:\", train_accuracy[1])"
   ]
  },
  {
   "cell_type": "code",
   "execution_count": 33,
   "id": "704a59c3",
   "metadata": {},
   "outputs": [
    {
     "name": "stdout",
     "output_type": "stream",
     "text": [
      "3/3 [==============================] - 1s 2ms/step\n",
      "[[0.96072316]\n",
      " [0.99701667]\n",
      " [0.8915494 ]\n",
      " [0.04032648]\n",
      " [0.09477224]\n",
      " [0.92065364]\n",
      " [0.37740397]\n",
      " [0.99701667]\n",
      " [0.05292179]\n",
      " [0.84812915]\n",
      " [0.96103954]\n",
      " [0.99585444]\n",
      " [0.08520898]\n",
      " [0.04351263]\n",
      " [0.6806408 ]\n",
      " [0.00780724]\n",
      " [0.08981943]\n",
      " [0.6806408 ]\n",
      " [0.13391721]\n",
      " [0.84812915]\n",
      " [0.376217  ]\n",
      " [0.4187113 ]\n",
      " [0.19076678]\n",
      " [0.16909899]\n",
      " [0.02152638]\n",
      " [0.02277793]\n",
      " [0.8745252 ]\n",
      " [0.02152638]\n",
      " [0.27594966]\n",
      " [0.9943484 ]\n",
      " [0.998653  ]\n",
      " [0.9869775 ]\n",
      " [0.96103954]\n",
      " [0.8567915 ]\n",
      " [0.998653  ]\n",
      " [0.989003  ]\n",
      " [0.16909899]\n",
      " [0.28085452]\n",
      " [0.9206098 ]\n",
      " [0.99585444]\n",
      " [0.04032648]\n",
      " [0.160387  ]\n",
      " [0.90995616]\n",
      " [0.84812915]\n",
      " [0.37548855]\n",
      " [0.043804  ]\n",
      " [0.3315987 ]\n",
      " [0.5054456 ]\n",
      " [0.95860875]\n",
      " [0.95479393]\n",
      " [0.147632  ]\n",
      " [0.85108995]\n",
      " [0.00780724]\n",
      " [0.92600507]\n",
      " [0.95820576]\n",
      " [0.47842327]\n",
      " [0.9435566 ]\n",
      " [0.8594715 ]\n",
      " [0.4187113 ]\n",
      " [0.13391721]\n",
      " [0.99941736]\n",
      " [0.9974435 ]\n",
      " [0.99941736]\n",
      " [0.09453651]\n",
      " [0.989003  ]\n",
      " [0.13391721]]\n"
     ]
    },
    {
     "name": "stderr",
     "output_type": "stream",
     "text": [
      "2024-02-21 21:34:34.321042: I tensorflow/core/common_runtime/executor.cc:1197] [/device:CPU:0] (DEBUG INFO) Executor start aborting (this does not indicate an error and you can ignore this message): INVALID_ARGUMENT: You must feed a value for placeholder tensor 'gradients/split_2_grad/concat/split_2/split_dim' with dtype int32\n",
      "\t [[{{node gradients/split_2_grad/concat/split_2/split_dim}}]]\n",
      "2024-02-21 21:34:34.323442: I tensorflow/core/common_runtime/executor.cc:1197] [/device:CPU:0] (DEBUG INFO) Executor start aborting (this does not indicate an error and you can ignore this message): INVALID_ARGUMENT: You must feed a value for placeholder tensor 'gradients/split_grad/concat/split/split_dim' with dtype int32\n",
      "\t [[{{node gradients/split_grad/concat/split/split_dim}}]]\n",
      "2024-02-21 21:34:34.325516: I tensorflow/core/common_runtime/executor.cc:1197] [/device:CPU:0] (DEBUG INFO) Executor start aborting (this does not indicate an error and you can ignore this message): INVALID_ARGUMENT: You must feed a value for placeholder tensor 'gradients/split_1_grad/concat/split_1/split_dim' with dtype int32\n",
      "\t [[{{node gradients/split_1_grad/concat/split_1/split_dim}}]]\n"
     ]
    }
   ],
   "source": [
    "# Prediction on test data.\n",
    "predict_x = model.predict(X_test)\n",
    "print(predict_x)\n",
    "#classes_x = np.argmax(predict_x,axis=1)\n",
    "#print(classes_x)"
   ]
  },
  {
   "cell_type": "code",
   "execution_count": 36,
   "id": "e79fc90a",
   "metadata": {},
   "outputs": [],
   "source": [
    "# Saving the model.\n",
    "model.save(\"model_LSTM_v2.h5\")"
   ]
  },
  {
   "cell_type": "code",
   "execution_count": 37,
   "id": "a163b080",
   "metadata": {},
   "outputs": [
    {
     "name": "stdout",
     "output_type": "stream",
     "text": [
      "dict_keys(['loss', 'accuracy', 'val_loss', 'val_accuracy'])\n"
     ]
    },
    {
     "data": {
      "image/png": "[encoded data removed]",
      "text/plain": [
       "<Figure size 640x480 with 1 Axes>"
      ]
     },
     "metadata": {},
     "output_type": "display_data"
    },
    {
     "data": {
      "image/png": "[encoded data removed]",
      "text/plain": [
       "<Figure size 640x480 with 1 Axes>"
      ]
     },
     "metadata": {},
     "output_type": "display_data"
    }
   ],
   "source": [
    "print(history.history.keys())\n",
    "import matplotlib.pyplot as plt\n",
    "# summarize history for accuracy\n",
    "plt.plot(history.history['accuracy'])\n",
    "plt.plot(history.history['val_accuracy'])\n",
    "plt.title('model accuracy')\n",
    "plt.ylabel('accuracy')\n",
    "plt.xlabel('epoch')\n",
    "plt.legend(['train', 'test'], loc='upper left')\n",
    "plt.show()\n",
    "# summarize history for loss\n",
    "plt.plot(history.history['loss'])\n",
    "plt.plot(history.history['val_loss'])\n",
    "plt.title('model loss')\n",
    "plt.ylabel('loss')\n",
    "plt.xlabel('epoch')\n",
    "plt.legend(['train', 'test'], loc='upper left')\n",
    "plt.show()"
   ]
  },
  {
   "cell_type": "code",
   "execution_count": null,
   "id": "a58f2b7a",
   "metadata": {},
   "outputs": [],
   "source": []
  }
 ],
 "metadata": {
  "kernelspec": {
   "display_name": "Python 3 (ipykernel)",
   "language": "python",
   "name": "python3"
  },
  "language_info": {
   "codemirror_mode": {
    "name": "ipython",
    "version": 3
   },
   "file_extension": ".py",
   "mimetype": "text/x-python",
   "name": "python",
   "nbconvert_exporter": "python",
   "pygments_lexer": "ipython3",
   "version": "3.10.13"
  }
 },
 "nbformat": 4,
 "nbformat_minor": 5
}
