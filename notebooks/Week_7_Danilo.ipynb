{
 "cells": [
  {
   "cell_type": "code",
   "execution_count": 11,
   "id": "85d3557d-7f3c-4578-8f56-2d418e77d23f",
   "metadata": {},
   "outputs": [],
   "source": [
    "import os\n",
    "import numpy as np \n",
    "import pandas as pd \n",
    "import warnings\n",
    "warnings.filterwarnings('ignore')"
   ]
  },
  {
   "cell_type": "markdown",
   "id": "7c504309-cdb1-4fb8-81ac-005d7cf46620",
   "metadata": {},
   "source": [
    "### Loading metadata input."
   ]
  },
  {
   "cell_type": "code",
   "execution_count": 12,
   "id": "7075cb83-26fb-4e33-bd28-d8d079ad9ef3",
   "metadata": {},
   "outputs": [],
   "source": [
    "metal_excel_dir = \"../data/raw/VSD.xlsx\"\n",
    "metadata = pd.read_excel(metal_excel_dir,sheet_name='read_dataset')"
   ]
  },
  {
   "cell_type": "markdown",
   "id": "c1345fae-b1b9-411f-88a4-f77d56438ac3",
   "metadata": {},
   "source": [
    "#### Head"
   ]
  },
  {
   "cell_type": "code",
   "execution_count": 13,
   "id": "f0d48f5e-deeb-4c21-9481-2c2986e4397f",
   "metadata": {},
   "outputs": [
    {
     "data": {
      "text/html": [
       "<div>\n",
       "<style scoped>\n",
       "    .dataframe tbody tr th:only-of-type {\n",
       "        vertical-align: middle;\n",
       "    }\n",
       "\n",
       "    .dataframe tbody tr th {\n",
       "        vertical-align: top;\n",
       "    }\n",
       "\n",
       "    .dataframe thead th {\n",
       "        text-align: right;\n",
       "    }\n",
       "</style>\n",
       "<table border=\"1\" class=\"dataframe\">\n",
       "  <thead>\n",
       "    <tr style=\"text-align: right;\">\n",
       "      <th></th>\n",
       "      <th>File_segment_name</th>\n",
       "      <th>Duration</th>\n",
       "      <th>Violence_start</th>\n",
       "      <th>Violence_end</th>\n",
       "      <th>Violence_duration</th>\n",
       "    </tr>\n",
       "  </thead>\n",
       "  <tbody>\n",
       "    <tr>\n",
       "      <th>0</th>\n",
       "      <td>angry_011</td>\n",
       "      <td>117.0</td>\n",
       "      <td>21.0</td>\n",
       "      <td>38.0</td>\n",
       "      <td>17.0</td>\n",
       "    </tr>\n",
       "    <tr>\n",
       "      <th>1</th>\n",
       "      <td>angry_011</td>\n",
       "      <td>117.0</td>\n",
       "      <td>40.0</td>\n",
       "      <td>55.0</td>\n",
       "      <td>15.0</td>\n",
       "    </tr>\n",
       "    <tr>\n",
       "      <th>2</th>\n",
       "      <td>angry_011</td>\n",
       "      <td>117.0</td>\n",
       "      <td>60.0</td>\n",
       "      <td>79.0</td>\n",
       "      <td>19.0</td>\n",
       "    </tr>\n",
       "    <tr>\n",
       "      <th>3</th>\n",
       "      <td>angry_011</td>\n",
       "      <td>117.0</td>\n",
       "      <td>85.0</td>\n",
       "      <td>95.0</td>\n",
       "      <td>10.0</td>\n",
       "    </tr>\n",
       "    <tr>\n",
       "      <th>4</th>\n",
       "      <td>angry_011</td>\n",
       "      <td>117.0</td>\n",
       "      <td>101.0</td>\n",
       "      <td>110.0</td>\n",
       "      <td>9.0</td>\n",
       "    </tr>\n",
       "  </tbody>\n",
       "</table>\n",
       "</div>"
      ],
      "text/plain": [
       "  File_segment_name  Duration  Violence_start  Violence_end  Violence_duration\n",
       "0         angry_011     117.0            21.0          38.0               17.0\n",
       "1         angry_011     117.0            40.0          55.0               15.0\n",
       "2         angry_011     117.0            60.0          79.0               19.0\n",
       "3         angry_011     117.0            85.0          95.0               10.0\n",
       "4         angry_011     117.0           101.0         110.0                9.0"
      ]
     },
     "execution_count": 13,
     "metadata": {},
     "output_type": "execute_result"
    }
   ],
   "source": [
    "metadata.head()"
   ]
  },
  {
   "cell_type": "markdown",
   "id": "7d22d60f-44b7-434a-b5a8-6dda0d1ba41e",
   "metadata": {},
   "source": [
    "#### Tail"
   ]
  },
  {
   "cell_type": "code",
   "execution_count": 14,
   "id": "3e22d6da-d20f-4bc9-a018-89802149b7f0",
   "metadata": {},
   "outputs": [
    {
     "data": {
      "text/html": [
       "<div>\n",
       "<style scoped>\n",
       "    .dataframe tbody tr th:only-of-type {\n",
       "        vertical-align: middle;\n",
       "    }\n",
       "\n",
       "    .dataframe tbody tr th {\n",
       "        vertical-align: top;\n",
       "    }\n",
       "\n",
       "    .dataframe thead th {\n",
       "        text-align: right;\n",
       "    }\n",
       "</style>\n",
       "<table border=\"1\" class=\"dataframe\">\n",
       "  <thead>\n",
       "    <tr style=\"text-align: right;\">\n",
       "      <th></th>\n",
       "      <th>File_segment_name</th>\n",
       "      <th>Duration</th>\n",
       "      <th>Violence_start</th>\n",
       "      <th>Violence_end</th>\n",
       "      <th>Violence_duration</th>\n",
       "    </tr>\n",
       "  </thead>\n",
       "  <tbody>\n",
       "    <tr>\n",
       "      <th>336</th>\n",
       "      <td>angry_211</td>\n",
       "      <td>149.0</td>\n",
       "      <td>108.014</td>\n",
       "      <td>121.203</td>\n",
       "      <td>13.189</td>\n",
       "    </tr>\n",
       "    <tr>\n",
       "      <th>337</th>\n",
       "      <td>noviolence_01</td>\n",
       "      <td>4939.0</td>\n",
       "      <td>0.000</td>\n",
       "      <td>0.010</td>\n",
       "      <td>0.010</td>\n",
       "    </tr>\n",
       "    <tr>\n",
       "      <th>338</th>\n",
       "      <td>noviolence_02</td>\n",
       "      <td>4476.0</td>\n",
       "      <td>0.000</td>\n",
       "      <td>0.010</td>\n",
       "      <td>0.010</td>\n",
       "    </tr>\n",
       "    <tr>\n",
       "      <th>339</th>\n",
       "      <td>noviolence_03</td>\n",
       "      <td>4966.0</td>\n",
       "      <td>0.000</td>\n",
       "      <td>0.010</td>\n",
       "      <td>0.010</td>\n",
       "    </tr>\n",
       "    <tr>\n",
       "      <th>340</th>\n",
       "      <td>noviolence_04</td>\n",
       "      <td>3731.0</td>\n",
       "      <td>0.000</td>\n",
       "      <td>0.010</td>\n",
       "      <td>0.010</td>\n",
       "    </tr>\n",
       "  </tbody>\n",
       "</table>\n",
       "</div>"
      ],
      "text/plain": [
       "    File_segment_name  Duration  Violence_start  Violence_end  \\\n",
       "336         angry_211     149.0         108.014       121.203   \n",
       "337     noviolence_01    4939.0           0.000         0.010   \n",
       "338     noviolence_02    4476.0           0.000         0.010   \n",
       "339     noviolence_03    4966.0           0.000         0.010   \n",
       "340     noviolence_04    3731.0           0.000         0.010   \n",
       "\n",
       "     Violence_duration  \n",
       "336             13.189  \n",
       "337              0.010  \n",
       "338              0.010  \n",
       "339              0.010  \n",
       "340              0.010  "
      ]
     },
     "execution_count": 14,
     "metadata": {},
     "output_type": "execute_result"
    }
   ],
   "source": [
    "metadata.tail()"
   ]
  },
  {
   "cell_type": "markdown",
   "id": "04be88c8-3d4f-44ce-b480-24b19719df0d",
   "metadata": {},
   "source": [
    "Examine the segmentation of our data to ensure accuracy. Some audio files are labeled with the identifiers yaf_angry_ and noviolence_, indicating the type of segment present in the audio."
   ]
  },
  {
   "cell_type": "code",
   "execution_count": 15,
   "id": "d24eec99-b4d1-4ed8-8cae-8b628441b899",
   "metadata": {},
   "outputs": [
    {
     "data": {
      "text/plain": [
       "array(['angry_011', 'angry_012', 'angry_013', 'angry_014', 'angry_015',\n",
       "       'angry_016', 'angry_017', 'angry_018', 'angry_021', 'angry_022',\n",
       "       'angry_023', 'angry_024', 'angry_025', 'angry_026', 'angry_027',\n",
       "       'angry_028', 'angry_031', 'angry_032', 'angry_033', 'angry_034',\n",
       "       'angry_035', 'angry_036', 'angry_037', 'angry_038', 'angry_039',\n",
       "       'angry_041', 'angry_042', 'angry_043', 'angry_044', 'angry_045',\n",
       "       'angry_046', 'angry_047', 'angry_048', 'angry_049', 'angry_049a',\n",
       "       'angry_049b', 'angry_051', 'angry_052', 'angry_053', 'angry_054',\n",
       "       'angry_055', 'angry_056', 'angry_057', 'angry_058', 'angry_059',\n",
       "       'angry_061', 'angry_062', 'angry_063', 'angry_064', 'angry_065',\n",
       "       'angry_066', 'angry_067', 'angry_071', 'angry_072', 'angry_073',\n",
       "       'angry_074', 'angry_075', 'angry_076', 'angry_077', 'angry_081',\n",
       "       'angry_082', 'angry_083', 'angry_084', 'angry_085', 'angry_086',\n",
       "       'angry_091', 'angry_092', 'angry_093', 'angry_094', 'angry_095',\n",
       "       'angry_101', 'angry_102', 'angry_103', 'angry_104', 'angry_111',\n",
       "       'angry_112', 'angry_113', 'angry_121', 'angry_122', 'angry_131',\n",
       "       'angry_132', 'angry_133', 'angry_134', 'angry_141', 'angry_142',\n",
       "       'angry_143', 'angry_144', 'angry_145', 'angry_151', 'angry_152',\n",
       "       'angry_153', 'angry_161', 'angry_162', 'angry_171', 'angry_181',\n",
       "       'angry_182', 'angry_191', 'angry_192', 'angry_193', 'angry_201',\n",
       "       'angry_202', 'angry_203', 'angry_204', 'angry_205', 'angry_211',\n",
       "       'noviolence_01', 'noviolence_02', 'noviolence_03', 'noviolence_04'],\n",
       "      dtype=object)"
      ]
     },
     "execution_count": 15,
     "metadata": {},
     "output_type": "execute_result"
    }
   ],
   "source": [
    "# Get unique values in the columns File_segment_name\n",
    "metadata['File_segment_name'].unique()\n"
   ]
  },
  {
   "cell_type": "code",
   "execution_count": 16,
   "id": "9e77b257-0d5b-4f6e-947c-0d482d4ac554",
   "metadata": {},
   "outputs": [
    {
     "data": {
      "text/plain": [
       "(341, 5)"
      ]
     },
     "execution_count": 16,
     "metadata": {},
     "output_type": "execute_result"
    }
   ],
   "source": [
    "metadata.shape"
   ]
  },
  {
   "cell_type": "code",
   "execution_count": 17,
   "id": "faadbb29-0c89-4e96-9a8e-76071412155a",
   "metadata": {},
   "outputs": [],
   "source": [
    "# Creating directory paths to store violence and non-violence data.\n",
    "violence_dir = \"../data/violence_data\"\n",
    "non_violence_dir = \"../data/non_violence_data\""
   ]
  },
  {
   "cell_type": "code",
   "execution_count": 18,
   "id": "22210e6c-65ed-4996-97c8-baf17de28de7",
   "metadata": {},
   "outputs": [],
   "source": [
    "def create_directory(directory_path):\n",
    "    # Check if the directory already exists\n",
    "    if not os.path.exists(directory_path):\n",
    "        # Create the directory if it doesn't exist\n",
    "        os.makedirs(directory_path)\n",
    "        print(f\"Directory '{directory_path}' created successfully.\")\n",
    "    else:\n",
    "        print(f\"Directory '{directory_path}' already exists.\")"
   ]
  },
  {
   "cell_type": "code",
   "execution_count": 19,
   "id": "f6ef0cff-fdd8-455a-aff7-f6a1a4bf36f0",
   "metadata": {},
   "outputs": [
    {
     "name": "stdout",
     "output_type": "stream",
     "text": [
      "Directory '../data/violence_data' created successfully.\n",
      "Directory '../data/non_violence_data' created successfully.\n"
     ]
    }
   ],
   "source": [
    "create_directory(violence_dir)\n",
    "create_directory(non_violence_dir)\n"
   ]
  },
  {
   "cell_type": "code",
   "execution_count": 20,
   "id": "463099e6-8d39-42e0-a6f6-41676fffe30b",
   "metadata": {},
   "outputs": [
    {
     "name": "stdout",
     "output_type": "stream",
     "text": [
      "===== Violent audio segments separated =====\n",
      "===== Non-violent audio segments separated =====\n"
     ]
    }
   ],
   "source": [
    "# We have segments of audio in our data, Hence importing pydub to process segments.\n",
    "from pydub import AudioSegment\n",
    "\n",
    "# Looping over all the records in metadata input.\n",
    "for record in metadata.values:\n",
    "    t1 = 1000 * record[2]\n",
    "    t2 = 1000 * record[3]\n",
    "    audio  = AudioSegment.from_wav(os.path.join(\"../data/raw/audios_VSD/audios_VSD\", str(record[0]) + \".wav\"))\n",
    "    violence_segment = audio[t1:t2]\n",
    "    # Storing the violence audio segment in the corresponding directory.\n",
    "    violence_segment.export(os.path.join(violence_dir,record[0]+\".wav\"))\n",
    "    \n",
    "print(\"===== Violent audio segments separated =====\")\n",
    "\n",
    "for record in metadata.values:\n",
    "    t1 = 1000 * record[2]\n",
    "    t2 = 1000 * record[3]\n",
    "    audio  = AudioSegment.from_wav(os.path.join(\"../data/raw/audios_VSD/audios_VSD\", str(record[0]) + \".wav\"))\n",
    "    non_violence_segment = audio[0:t1]\n",
    "    non_violence_segment.export(os.path.join(non_violence_dir,record[0]+\"_non_violence.wav\"))\n",
    "\n",
    "print(\"===== Non-violent audio segments separated =====\")"
   ]
  },
  {
   "cell_type": "code",
   "execution_count": 21,
   "id": "b8058990-d619-4c56-a9d2-283159308d1b",
   "metadata": {},
   "outputs": [],
   "source": [
    "# Importing Librosa to extract audio features.\n",
    "import librosa\n",
    "\n",
    "# Function to extract MFCC (Mel Frequency Cepstral Coefficients) from the audio sample.\n",
    "def features_extractor(file):\n",
    "    audio, sample_rate = librosa.load(file) \n",
    "    mfccs_features = librosa.feature.mfcc(y=audio, sr=sample_rate, n_mfcc=40)\n",
    "    # We do mean of transpose of value to find out scaled feature.\n",
    "    mfccs_scaled_features = np.mean(mfccs_features.T,axis=0)\n",
    "    return mfccs_scaled_features"
   ]
  },
  {
   "cell_type": "code",
   "execution_count": 22,
   "id": "c12bd2fd-104d-4bd8-9d9e-2e4bb661835a",
   "metadata": {},
   "outputs": [
    {
     "name": "stdout",
     "output_type": "stream",
     "text": [
      "===== Successfully extracted violent audio data =====\n"
     ]
    },
    {
     "name": "stderr",
     "output_type": "stream",
     "text": [
      "[src/libmpg123/parse.c:do_readahead():1099] warning: Cannot read next header, a one-frame stream? Duh...\n",
      "[src/libmpg123/parse.c:do_readahead():1099] warning: Cannot read next header, a one-frame stream? Duh...\n",
      "[src/libmpg123/parse.c:do_readahead():1099] warning: Cannot read next header, a one-frame stream? Duh...\n",
      "[src/libmpg123/parse.c:do_readahead():1099] warning: Cannot read next header, a one-frame stream? Duh...\n",
      "[src/libmpg123/parse.c:do_readahead():1099] warning: Cannot read next header, a one-frame stream? Duh...\n",
      "[src/libmpg123/parse.c:do_readahead():1099] warning: Cannot read next header, a one-frame stream? Duh...\n",
      "[src/libmpg123/parse.c:do_readahead():1099] warning: Cannot read next header, a one-frame stream? Duh...\n",
      "[src/libmpg123/parse.c:do_readahead():1099] warning: Cannot read next header, a one-frame stream? Duh...\n",
      "[src/libmpg123/parse.c:do_readahead():1099] warning: Cannot read next header, a one-frame stream? Duh...\n",
      "[src/libmpg123/parse.c:do_readahead():1099] warning: Cannot read next header, a one-frame stream? Duh...\n",
      "[src/libmpg123/parse.c:do_readahead():1099] warning: Cannot read next header, a one-frame stream? Duh...\n",
      "[src/libmpg123/parse.c:do_readahead():1099] warning: Cannot read next header, a one-frame stream? Duh...\n",
      "[src/libmpg123/parse.c:do_readahead():1099] warning: Cannot read next header, a one-frame stream? Duh...\n",
      "[src/libmpg123/parse.c:do_readahead():1099] warning: Cannot read next header, a one-frame stream? Duh...\n",
      "[src/libmpg123/parse.c:do_readahead():1099] warning: Cannot read next header, a one-frame stream? Duh...\n",
      "[src/libmpg123/parse.c:do_readahead():1099] warning: Cannot read next header, a one-frame stream? Duh...\n",
      "[src/libmpg123/parse.c:do_readahead():1099] warning: Cannot read next header, a one-frame stream? Duh...\n",
      "[src/libmpg123/parse.c:do_readahead():1099] warning: Cannot read next header, a one-frame stream? Duh...\n",
      "[src/libmpg123/parse.c:do_readahead():1099] warning: Cannot read next header, a one-frame stream? Duh...\n",
      "[src/libmpg123/parse.c:do_readahead():1099] warning: Cannot read next header, a one-frame stream? Duh...\n",
      "[src/libmpg123/parse.c:do_readahead():1099] warning: Cannot read next header, a one-frame stream? Duh...\n",
      "[src/libmpg123/parse.c:do_readahead():1099] warning: Cannot read next header, a one-frame stream? Duh...\n",
      "[src/libmpg123/parse.c:do_readahead():1099] warning: Cannot read next header, a one-frame stream? Duh...\n",
      "[src/libmpg123/parse.c:do_readahead():1099] warning: Cannot read next header, a one-frame stream? Duh...\n",
      "[src/libmpg123/parse.c:do_readahead():1099] warning: Cannot read next header, a one-frame stream? Duh...\n",
      "[src/libmpg123/parse.c:do_readahead():1099] warning: Cannot read next header, a one-frame stream? Duh...\n"
     ]
    },
    {
     "name": "stdout",
     "output_type": "stream",
     "text": [
      "===== Successfully extracted non-violent audio data =====\n"
     ]
    }
   ],
   "source": [
    "# Creating empty list to store the extracted features.\n",
    "extracted_features=[]\n",
    "\n",
    "# Loop to process violent data extraction process.\n",
    "for record in metadata.values:\n",
    "    file_name = os.path.join(os.path.abspath(violence_dir), record[0] + \".wav\")\n",
    "    # Labelling violent audio as 1.\n",
    "    final_class_labels = 1 \n",
    "    try:\n",
    "        data = features_extractor(file_name)\n",
    "    except:\n",
    "        continue\n",
    "    extracted_features.append([data,final_class_labels])\n",
    "print(\"===== Successfully extracted violent audio data =====\")\n",
    "\n",
    "# Loop to process non-violent data extraction process.\n",
    "for record in metadata.values:\n",
    "    file_name = os.path.join(os.path.abspath(non_violence_dir),record[0]+\"_non_violence.wav\")\n",
    "    # Labelling non-violent audio as 0.\n",
    "    final_class_labels = 0\n",
    "    try:\n",
    "        data = features_extractor(file_name)\n",
    "    except:\n",
    "        continue\n",
    "    extracted_features.append([data,final_class_labels])\n",
    "print(\"===== Successfully extracted non-violent audio data =====\")"
   ]
  },
  {
   "cell_type": "code",
   "execution_count": 23,
   "id": "1ce80ef6",
   "metadata": {},
   "outputs": [
    {
     "data": {
      "text/html": [
       "<div>\n",
       "<style scoped>\n",
       "    .dataframe tbody tr th:only-of-type {\n",
       "        vertical-align: middle;\n",
       "    }\n",
       "\n",
       "    .dataframe tbody tr th {\n",
       "        vertical-align: top;\n",
       "    }\n",
       "\n",
       "    .dataframe thead th {\n",
       "        text-align: right;\n",
       "    }\n",
       "</style>\n",
       "<table border=\"1\" class=\"dataframe\">\n",
       "  <thead>\n",
       "    <tr style=\"text-align: right;\">\n",
       "      <th></th>\n",
       "      <th>feature</th>\n",
       "      <th>class</th>\n",
       "    </tr>\n",
       "  </thead>\n",
       "  <tbody>\n",
       "    <tr>\n",
       "      <th>651</th>\n",
       "      <td>[-368.19443, 111.970695, -13.860407, 17.634977...</td>\n",
       "      <td>0</td>\n",
       "    </tr>\n",
       "    <tr>\n",
       "      <th>652</th>\n",
       "      <td>[-215.53848, 125.501945, -43.539345, 34.04715,...</td>\n",
       "      <td>0</td>\n",
       "    </tr>\n",
       "    <tr>\n",
       "      <th>653</th>\n",
       "      <td>[-215.53848, 125.501945, -43.539345, 34.04715,...</td>\n",
       "      <td>0</td>\n",
       "    </tr>\n",
       "    <tr>\n",
       "      <th>654</th>\n",
       "      <td>[-215.53848, 125.501945, -43.539345, 34.04715,...</td>\n",
       "      <td>0</td>\n",
       "    </tr>\n",
       "    <tr>\n",
       "      <th>655</th>\n",
       "      <td>[-215.53848, 125.501945, -43.539345, 34.04715,...</td>\n",
       "      <td>0</td>\n",
       "    </tr>\n",
       "  </tbody>\n",
       "</table>\n",
       "</div>"
      ],
      "text/plain": [
       "                                               feature  class\n",
       "651  [-368.19443, 111.970695, -13.860407, 17.634977...      0\n",
       "652  [-215.53848, 125.501945, -43.539345, 34.04715,...      0\n",
       "653  [-215.53848, 125.501945, -43.539345, 34.04715,...      0\n",
       "654  [-215.53848, 125.501945, -43.539345, 34.04715,...      0\n",
       "655  [-215.53848, 125.501945, -43.539345, 34.04715,...      0"
      ]
     },
     "execution_count": 23,
     "metadata": {},
     "output_type": "execute_result"
    }
   ],
   "source": [
    "# Converting extracted_features to Pandas dataframe.\n",
    "extracted_features_df = pd.DataFrame(extracted_features,columns=['feature','class'])\n",
    "extracted_features_df.tail()"
   ]
  },
  {
   "cell_type": "code",
   "execution_count": 24,
   "id": "39e4d655",
   "metadata": {},
   "outputs": [
    {
     "data": {
      "text/plain": [
       "class\n",
       "1    341\n",
       "0    315\n",
       "Name: count, dtype: int64"
      ]
     },
     "execution_count": 24,
     "metadata": {},
     "output_type": "execute_result"
    }
   ],
   "source": [
    "# Checking Value counts.\n",
    "extracted_features_df[\"class\"].value_counts()"
   ]
  },
  {
   "cell_type": "code",
   "execution_count": 25,
   "id": "7c30e3d0",
   "metadata": {},
   "outputs": [],
   "source": [
    "# Split the dataset into independent and dependent dataset.\n",
    "X = np.array(extracted_features_df[\"feature\"].tolist())\n",
    "y = np.array(extracted_features_df[\"class\"].tolist())\n",
    "\n",
    "# Train Test Split.\n",
    "from sklearn.model_selection import train_test_split\n",
    "X_train,X_test,y_train,y_test=train_test_split(X,y,test_size=0.1,random_state=42)"
   ]
  },
  {
   "cell_type": "code",
   "execution_count": 26,
   "id": "9abec329",
   "metadata": {},
   "outputs": [
    {
     "name": "stdout",
     "output_type": "stream",
     "text": [
      "(590, 40) (66, 40)\n"
     ]
    }
   ],
   "source": [
    "print(X_train.shape, X_test.shape)"
   ]
  },
  {
   "cell_type": "code",
   "execution_count": 27,
   "id": "6486d2af",
   "metadata": {},
   "outputs": [
    {
     "name": "stdout",
     "output_type": "stream",
     "text": [
      "(590, 1, 40) (66, 1, 40)\n"
     ]
    }
   ],
   "source": [
    "# Reshaping to make the datasets compatible with LSTM.\n",
    "X_train=X_train.reshape(590,1,40)\n",
    "X_test=X_test.reshape(66,1, 40)\n",
    "print(X_train.shape, X_test.shape)"
   ]
  },
  {
   "cell_type": "code",
   "execution_count": 28,
   "id": "3a873b7e",
   "metadata": {},
   "outputs": [
    {
     "name": "stderr",
     "output_type": "stream",
     "text": [
      "2024-03-21 11:45:57.078135: I tensorflow/core/platform/cpu_feature_guard.cc:182] This TensorFlow binary is optimized to use available CPU instructions in performance-critical operations.\n",
      "To enable the following instructions: SSE4.1 SSE4.2, in other operations, rebuild TensorFlow with the appropriate compiler flags.\n",
      "2024-03-21 11:46:11.417711: I tensorflow/core/common_runtime/executor.cc:1197] [/device:CPU:0] (DEBUG INFO) Executor start aborting (this does not indicate an error and you can ignore this message): INVALID_ARGUMENT: You must feed a value for placeholder tensor 'gradients/split_2_grad/concat/split_2/split_dim' with dtype int32\n",
      "\t [[{{node gradients/split_2_grad/concat/split_2/split_dim}}]]\n",
      "2024-03-21 11:46:11.419069: I tensorflow/core/common_runtime/executor.cc:1197] [/device:CPU:0] (DEBUG INFO) Executor start aborting (this does not indicate an error and you can ignore this message): INVALID_ARGUMENT: You must feed a value for placeholder tensor 'gradients/split_grad/concat/split/split_dim' with dtype int32\n",
      "\t [[{{node gradients/split_grad/concat/split/split_dim}}]]\n",
      "2024-03-21 11:46:11.419874: I tensorflow/core/common_runtime/executor.cc:1197] [/device:CPU:0] (DEBUG INFO) Executor start aborting (this does not indicate an error and you can ignore this message): INVALID_ARGUMENT: You must feed a value for placeholder tensor 'gradients/split_1_grad/concat/split_1/split_dim' with dtype int32\n",
      "\t [[{{node gradients/split_1_grad/concat/split_1/split_dim}}]]\n"
     ]
    }
   ],
   "source": [
    "from tensorflow.keras.models import Sequential\n",
    "from tensorflow.keras.layers import Dense,Dropout,Activation,Flatten,SimpleRNN, LSTM\n",
    "from tensorflow.keras.optimizers import Adam\n",
    "from sklearn import metrics\n",
    "\n",
    "# No of classes.\n",
    "num_labels=y.shape[0]\n",
    "model=Sequential()\n",
    "model.add(LSTM(64,input_shape=(1,40)))\n",
    "\n",
    "### 1st layer.\n",
    "model.add(Dense(32))\n",
    "#model.add(Activation('relu'))\n",
    "#model.add(Dropout(0.5))\n",
    "\n",
    "### 2nd layer.\n",
    "#model.add(Dense(128))\n",
    "#model.add(Activation('relu'))\n",
    "#model.add(Dropout(0.4))\n",
    "\n",
    "### 3rd layer.\n",
    "#model.add(Dense(64))\n",
    "#model.add(Activation('relu'))\n",
    "#model.add(Dropout(0.5))\n",
    "\n",
    "### 4th layer.\n",
    "#model.add(Dense(32))\n",
    "#model.add(Activation('relu'))\n",
    "\n",
    "### 5th layer.\n",
    "#model.add(Dense(16))\n",
    "#model.add(Activation('relu'))\n",
    "\n",
    "### 6th layer.\n",
    "#model.add(Dense(8))\n",
    "#model.add(Activation('relu'))\n",
    "\n",
    "### Final layer.\n",
    "model.add(Dense(1))\n",
    "model.add(Activation('sigmoid'))"
   ]
  },
  {
   "cell_type": "code",
   "execution_count": null,
   "id": "629d091e",
   "metadata": {},
   "outputs": [
    {
     "name": "stdout",
     "output_type": "stream",
     "text": [
      "Model: \"sequential\"\n",
      "_________________________________________________________________\n",
      " Layer (type)                Output Shape              Param #   \n",
      "=================================================================\n",
      " lstm (LSTM)                 (None, 64)                26880     \n",
      "                                                                 \n",
      " dense (Dense)               (None, 32)                2080      \n",
      "                                                                 \n",
      " dense_1 (Dense)             (None, 1)                 33        \n",
      "                                                                 \n",
      " activation (Activation)     (None, 1)                 0         \n",
      "                                                                 \n",
      "=================================================================\n",
      "Total params: 28,993\n",
      "Trainable params: 28,993\n",
      "Non-trainable params: 0\n",
      "_________________________________________________________________\n"
     ]
    }
   ],
   "source": [
    "model.summary()"
   ]
  },
  {
   "cell_type": "code",
   "execution_count": 29,
   "id": "c28b053d",
   "metadata": {},
   "outputs": [],
   "source": [
    "# Model Compilation.\n",
    "model.compile(loss='binary_crossentropy',metrics=['accuracy'],optimizer='adam')"
   ]
  },
  {
   "cell_type": "code",
   "execution_count": 30,
   "id": "7904b336",
   "metadata": {},
   "outputs": [
    {
     "name": "stdout",
     "output_type": "stream",
     "text": [
      "Epoch 1/10\n"
     ]
    },
    {
     "name": "stderr",
     "output_type": "stream",
     "text": [
      "2024-03-21 11:46:17.448525: I tensorflow/core/common_runtime/executor.cc:1197] [/device:CPU:0] (DEBUG INFO) Executor start aborting (this does not indicate an error and you can ignore this message): INVALID_ARGUMENT: You must feed a value for placeholder tensor 'gradients/split_2_grad/concat/split_2/split_dim' with dtype int32\n",
      "\t [[{{node gradients/split_2_grad/concat/split_2/split_dim}}]]\n",
      "2024-03-21 11:46:17.449905: I tensorflow/core/common_runtime/executor.cc:1197] [/device:CPU:0] (DEBUG INFO) Executor start aborting (this does not indicate an error and you can ignore this message): INVALID_ARGUMENT: You must feed a value for placeholder tensor 'gradients/split_grad/concat/split/split_dim' with dtype int32\n",
      "\t [[{{node gradients/split_grad/concat/split/split_dim}}]]\n",
      "2024-03-21 11:46:17.450856: I tensorflow/core/common_runtime/executor.cc:1197] [/device:CPU:0] (DEBUG INFO) Executor start aborting (this does not indicate an error and you can ignore this message): INVALID_ARGUMENT: You must feed a value for placeholder tensor 'gradients/split_1_grad/concat/split_1/split_dim' with dtype int32\n",
      "\t [[{{node gradients/split_1_grad/concat/split_1/split_dim}}]]\n",
      "2024-03-21 11:46:17.913414: I tensorflow/core/common_runtime/executor.cc:1197] [/device:CPU:0] (DEBUG INFO) Executor start aborting (this does not indicate an error and you can ignore this message): INVALID_ARGUMENT: You must feed a value for placeholder tensor 'gradients/split_2_grad/concat/split_2/split_dim' with dtype int32\n",
      "\t [[{{node gradients/split_2_grad/concat/split_2/split_dim}}]]\n",
      "2024-03-21 11:46:17.914254: I tensorflow/core/common_runtime/executor.cc:1197] [/device:CPU:0] (DEBUG INFO) Executor start aborting (this does not indicate an error and you can ignore this message): INVALID_ARGUMENT: You must feed a value for placeholder tensor 'gradients/split_grad/concat/split/split_dim' with dtype int32\n",
      "\t [[{{node gradients/split_grad/concat/split/split_dim}}]]\n",
      "2024-03-21 11:46:17.915338: I tensorflow/core/common_runtime/executor.cc:1197] [/device:CPU:0] (DEBUG INFO) Executor start aborting (this does not indicate an error and you can ignore this message): INVALID_ARGUMENT: You must feed a value for placeholder tensor 'gradients/split_1_grad/concat/split_1/split_dim' with dtype int32\n",
      "\t [[{{node gradients/split_1_grad/concat/split_1/split_dim}}]]\n"
     ]
    },
    {
     "name": "stdout",
     "output_type": "stream",
     "text": [
      " 1/19 [>.............................] - ETA: 33s - loss: 0.7288 - accuracy: 0.4688"
     ]
    },
    {
     "name": "stderr",
     "output_type": "stream",
     "text": [
      "2024-03-21 11:46:19.419092: I tensorflow/core/common_runtime/executor.cc:1197] [/device:CPU:0] (DEBUG INFO) Executor start aborting (this does not indicate an error and you can ignore this message): INVALID_ARGUMENT: You must feed a value for placeholder tensor 'gradients/split_2_grad/concat/split_2/split_dim' with dtype int32\n",
      "\t [[{{node gradients/split_2_grad/concat/split_2/split_dim}}]]\n",
      "2024-03-21 11:46:19.419985: I tensorflow/core/common_runtime/executor.cc:1197] [/device:CPU:0] (DEBUG INFO) Executor start aborting (this does not indicate an error and you can ignore this message): INVALID_ARGUMENT: You must feed a value for placeholder tensor 'gradients/split_grad/concat/split/split_dim' with dtype int32\n",
      "\t [[{{node gradients/split_grad/concat/split/split_dim}}]]\n",
      "2024-03-21 11:46:19.421008: I tensorflow/core/common_runtime/executor.cc:1197] [/device:CPU:0] (DEBUG INFO) Executor start aborting (this does not indicate an error and you can ignore this message): INVALID_ARGUMENT: You must feed a value for placeholder tensor 'gradients/split_1_grad/concat/split_1/split_dim' with dtype int32\n",
      "\t [[{{node gradients/split_1_grad/concat/split_1/split_dim}}]]\n"
     ]
    },
    {
     "name": "stdout",
     "output_type": "stream",
     "text": [
      "\n",
      "Epoch 1: val_loss improved from inf to 0.59240, saving model to ./audio_classification.hdf5\n",
      "19/19 [==============================] - 3s 48ms/step - loss: 0.6612 - accuracy: 0.6034 - val_loss: 0.5924 - val_accuracy: 0.6667\n",
      "Epoch 2/10\n",
      "13/19 [===================>..........] - ETA: 0s - loss: 0.5730 - accuracy: 0.7163\n",
      "Epoch 2: val_loss improved from 0.59240 to 0.53572, saving model to ./audio_classification.hdf5\n",
      "19/19 [==============================] - 0s 12ms/step - loss: 0.5555 - accuracy: 0.7254 - val_loss: 0.5357 - val_accuracy: 0.6970\n",
      "Epoch 3/10\n",
      " 1/19 [>.............................] - ETA: 0s - loss: 0.5537 - accuracy: 0.7188\n",
      "Epoch 3: val_loss improved from 0.53572 to 0.48413, saving model to ./audio_classification.hdf5\n",
      "19/19 [==============================] - 0s 5ms/step - loss: 0.4926 - accuracy: 0.7610 - val_loss: 0.4841 - val_accuracy: 0.6818\n",
      "Epoch 4/10\n",
      "12/19 [=================>............] - ETA: 0s - loss: 0.4433 - accuracy: 0.7760\n",
      "Epoch 4: val_loss improved from 0.48413 to 0.44845, saving model to ./audio_classification.hdf5\n",
      "19/19 [==============================] - 0s 7ms/step - loss: 0.4375 - accuracy: 0.7814 - val_loss: 0.4484 - val_accuracy: 0.7576\n",
      "Epoch 5/10\n",
      " 1/19 [>.............................] - ETA: 0s - loss: 0.4402 - accuracy: 0.8125\n",
      "Epoch 5: val_loss improved from 0.44845 to 0.40760, saving model to ./audio_classification.hdf5\n",
      "19/19 [==============================] - 0s 5ms/step - loss: 0.3899 - accuracy: 0.8525 - val_loss: 0.4076 - val_accuracy: 0.8333\n",
      "Epoch 6/10\n",
      " 1/19 [>.............................] - ETA: 0s - loss: 0.4058 - accuracy: 0.7500\n",
      "Epoch 6: val_loss improved from 0.40760 to 0.32940, saving model to ./audio_classification.hdf5\n",
      "19/19 [==============================] - 0s 4ms/step - loss: 0.3454 - accuracy: 0.8898 - val_loss: 0.3294 - val_accuracy: 0.8939\n",
      "Epoch 7/10\n",
      " 1/19 [>.............................] - ETA: 0s - loss: 0.3173 - accuracy: 0.9375\n",
      "Epoch 7: val_loss improved from 0.32940 to 0.30126, saving model to ./audio_classification.hdf5\n",
      "19/19 [==============================] - 0s 4ms/step - loss: 0.2953 - accuracy: 0.9136 - val_loss: 0.3013 - val_accuracy: 0.9242\n",
      "Epoch 8/10\n",
      " 1/19 [>.............................] - ETA: 0s - loss: 0.3824 - accuracy: 0.8125\n",
      "Epoch 8: val_loss improved from 0.30126 to 0.25847, saving model to ./audio_classification.hdf5\n",
      "19/19 [==============================] - 0s 4ms/step - loss: 0.2554 - accuracy: 0.9339 - val_loss: 0.2585 - val_accuracy: 0.9242\n",
      "Epoch 9/10\n",
      " 1/19 [>.............................] - ETA: 0s - loss: 0.1951 - accuracy: 0.9688\n",
      "Epoch 9: val_loss improved from 0.25847 to 0.20725, saving model to ./audio_classification.hdf5\n",
      "19/19 [==============================] - 0s 4ms/step - loss: 0.2154 - accuracy: 0.9424 - val_loss: 0.2073 - val_accuracy: 0.9697\n",
      "Epoch 10/10\n",
      "15/19 [======================>.......] - ETA: 0s - loss: 0.1848 - accuracy: 0.9542\n",
      "Epoch 10: val_loss did not improve from 0.20725\n",
      "19/19 [==============================] - 0s 5ms/step - loss: 0.1887 - accuracy: 0.9508 - val_loss: 0.2092 - val_accuracy: 0.9242\n",
      "Training completed in time: 0:00:03.976418\n"
     ]
    }
   ],
   "source": [
    "# Trianing model.\n",
    "from tensorflow.keras.callbacks import ModelCheckpoint\n",
    "from datetime import datetime \n",
    "num_epochs = 10\n",
    "num_batch_size = 32\n",
    "checkpointer = ModelCheckpoint(filepath='./audio_classification.hdf5', verbose=1, save_best_only=True)\n",
    "start = datetime.now()\n",
    "history = model.fit(X_train, y_train, batch_size=num_batch_size, epochs=num_epochs, validation_data=(X_test, y_test), callbacks=[checkpointer], verbose=1)\n",
    "duration = datetime.now() - start\n",
    "print(\"Training completed in time:\", duration)"
   ]
  },
  {
   "cell_type": "code",
   "execution_count": 31,
   "id": "a67bca0b",
   "metadata": {},
   "outputs": [
    {
     "name": "stdout",
     "output_type": "stream",
     "text": [
      "Test accuracy of the model: 0.9242424368858337\n"
     ]
    }
   ],
   "source": [
    "# Evaluating the model on testing data.\n",
    "test_accuracy = model.evaluate(X_test,y_test,verbose=0)\n",
    "print(\"Test accuracy of the model:\", test_accuracy[1])"
   ]
  },
  {
   "cell_type": "code",
   "execution_count": 32,
   "id": "33ba8043",
   "metadata": {},
   "outputs": [
    {
     "name": "stdout",
     "output_type": "stream",
     "text": [
      "Train accuracy of the model: 0.9627118706703186\n"
     ]
    }
   ],
   "source": [
    "# Evaluating the model on training data.\n",
    "train_accuracy = model.evaluate(X_train,y_train,verbose=0)\n",
    "print(\"Train accuracy of the model:\", train_accuracy[1])"
   ]
  },
  {
   "cell_type": "code",
   "execution_count": 33,
   "id": "704a59c3",
   "metadata": {},
   "outputs": [
    {
     "name": "stdout",
     "output_type": "stream",
     "text": [
      "3/3 [==============================] - 0s 1ms/step\n",
      "[[0.948555  ]\n",
      " [0.99716026]\n",
      " [0.78619653]\n",
      " [0.09501623]\n",
      " [0.02766013]\n",
      " [0.8954559 ]\n",
      " [0.736747  ]\n",
      " [0.99716026]\n",
      " [0.29443178]\n",
      " [0.92259175]\n",
      " [0.9463692 ]\n",
      " [0.99720484]\n",
      " [0.12216881]\n",
      " [0.06156814]\n",
      " [0.78284466]\n",
      " [0.04644798]\n",
      " [0.10598475]\n",
      " [0.78284466]\n",
      " [0.20614992]\n",
      " [0.92259175]\n",
      " [0.4691979 ]\n",
      " [0.4243522 ]\n",
      " [0.33544838]\n",
      " [0.11956216]\n",
      " [0.07691009]\n",
      " [0.02714744]\n",
      " [0.9048709 ]\n",
      " [0.07691009]\n",
      " [0.91051674]\n",
      " [0.9978986 ]\n",
      " [0.99006355]\n",
      " [0.9166798 ]\n",
      " [0.9463692 ]\n",
      " [0.78094304]\n",
      " [0.99006355]\n",
      " [0.979642  ]\n",
      " [0.11956216]\n",
      " [0.35269284]\n",
      " [0.9728945 ]\n",
      " [0.99720484]\n",
      " [0.09501623]\n",
      " [0.09488443]\n",
      " [0.89101475]\n",
      " [0.92259175]\n",
      " [0.79850364]\n",
      " [0.16731451]\n",
      " [0.24248841]\n",
      " [0.6020269 ]\n",
      " [0.96755683]\n",
      " [0.9875699 ]\n",
      " [0.15609562]\n",
      " [0.8628162 ]\n",
      " [0.04644798]\n",
      " [0.9699252 ]\n",
      " [0.9829119 ]\n",
      " [0.427852  ]\n",
      " [0.97357225]\n",
      " [0.7283942 ]\n",
      " [0.4243522 ]\n",
      " [0.20614992]\n",
      " [0.9992833 ]\n",
      " [0.9968695 ]\n",
      " [0.9992833 ]\n",
      " [0.26018927]\n",
      " [0.979642  ]\n",
      " [0.20614992]]\n"
     ]
    },
    {
     "name": "stderr",
     "output_type": "stream",
     "text": [
      "2024-03-21 11:46:27.240900: I tensorflow/core/common_runtime/executor.cc:1197] [/device:CPU:0] (DEBUG INFO) Executor start aborting (this does not indicate an error and you can ignore this message): INVALID_ARGUMENT: You must feed a value for placeholder tensor 'gradients/split_2_grad/concat/split_2/split_dim' with dtype int32\n",
      "\t [[{{node gradients/split_2_grad/concat/split_2/split_dim}}]]\n",
      "2024-03-21 11:46:27.241694: I tensorflow/core/common_runtime/executor.cc:1197] [/device:CPU:0] (DEBUG INFO) Executor start aborting (this does not indicate an error and you can ignore this message): INVALID_ARGUMENT: You must feed a value for placeholder tensor 'gradients/split_grad/concat/split/split_dim' with dtype int32\n",
      "\t [[{{node gradients/split_grad/concat/split/split_dim}}]]\n",
      "2024-03-21 11:46:27.242555: I tensorflow/core/common_runtime/executor.cc:1197] [/device:CPU:0] (DEBUG INFO) Executor start aborting (this does not indicate an error and you can ignore this message): INVALID_ARGUMENT: You must feed a value for placeholder tensor 'gradients/split_1_grad/concat/split_1/split_dim' with dtype int32\n",
      "\t [[{{node gradients/split_1_grad/concat/split_1/split_dim}}]]\n"
     ]
    }
   ],
   "source": [
    "# Prediction on test data.\n",
    "predict_x = model.predict(X_test)\n",
    "print(predict_x)\n",
    "#classes_x = np.argmax(predict_x,axis=1)\n",
    "#print(classes_x)"
   ]
  },
  {
   "cell_type": "code",
   "execution_count": 39,
   "id": "e79fc90a",
   "metadata": {},
   "outputs": [],
   "source": [
    "# Saving the model.\n",
    "## Use random name to save the model.\n",
    "import random\n",
    "name = \"audio_classification\"\n",
    "version = random.randint(1,101)\n",
    "model.save(f\"../models/{name}_v{version}.h5\")"
   ]
  },
  {
   "cell_type": "code",
   "execution_count": 36,
   "id": "a163b080",
   "metadata": {},
   "outputs": [
    {
     "name": "stdout",
     "output_type": "stream",
     "text": [
      "dict_keys(['loss', 'accuracy', 'val_loss', 'val_accuracy'])\n"
     ]
    },
    {
     "data": {
      "image/png": "[encoded data removed]",
      "text/plain": [
       "<Figure size 640x480 with 1 Axes>"
      ]
     },
     "metadata": {},
     "output_type": "display_data"
    },
    {
     "data": {
      "image/png": "[encoded data removed]",
      "text/plain": [
       "<Figure size 640x480 with 1 Axes>"
      ]
     },
     "metadata": {},
     "output_type": "display_data"
    }
   ],
   "source": [
    "print(history.history.keys())\n",
    "import matplotlib.pyplot as plt\n",
    "# summarize history for accuracy\n",
    "plt.plot(history.history['accuracy'])\n",
    "plt.plot(history.history['val_accuracy'])\n",
    "plt.title('model accuracy')\n",
    "plt.ylabel('accuracy')\n",
    "plt.xlabel('epoch')\n",
    "plt.legend(['train', 'test'], loc='upper left')\n",
    "plt.show()\n",
    "# summarize history for loss\n",
    "plt.plot(history.history['loss'])\n",
    "plt.plot(history.history['val_loss'])\n",
    "plt.title('model loss')\n",
    "plt.ylabel('loss')\n",
    "plt.xlabel('epoch')\n",
    "plt.legend(['train', 'test'], loc='upper left')\n",
    "plt.show()"
   ]
  },
  {
   "cell_type": "code",
   "execution_count": 50,
   "id": "19e7ba52",
   "metadata": {},
   "outputs": [
    {
     "name": "stderr",
     "output_type": "stream",
     "text": [
      "2024-03-21 12:05:33.101261: I tensorflow/core/common_runtime/executor.cc:1197] [/device:CPU:0] (DEBUG INFO) Executor start aborting (this does not indicate an error and you can ignore this message): INVALID_ARGUMENT: You must feed a value for placeholder tensor 'gradients/split_2_grad/concat/split_2/split_dim' with dtype int32\n",
      "\t [[{{node gradients/split_2_grad/concat/split_2/split_dim}}]]\n",
      "2024-03-21 12:05:33.102422: I tensorflow/core/common_runtime/executor.cc:1197] [/device:CPU:0] (DEBUG INFO) Executor start aborting (this does not indicate an error and you can ignore this message): INVALID_ARGUMENT: You must feed a value for placeholder tensor 'gradients/split_grad/concat/split/split_dim' with dtype int32\n",
      "\t [[{{node gradients/split_grad/concat/split/split_dim}}]]\n",
      "2024-03-21 12:05:33.103214: I tensorflow/core/common_runtime/executor.cc:1197] [/device:CPU:0] (DEBUG INFO) Executor start aborting (this does not indicate an error and you can ignore this message): INVALID_ARGUMENT: You must feed a value for placeholder tensor 'gradients/split_1_grad/concat/split_1/split_dim' with dtype int32\n",
      "\t [[{{node gradients/split_1_grad/concat/split_1/split_dim}}]]\n"
     ]
    }
   ],
   "source": [
    "from tensorflow.keras.models import load_model\n",
    "model_load = load_model(\"../models/audio_classification_v60.h5\")"
   ]
  },
  {
   "cell_type": "code",
   "execution_count": 1,
   "id": "a58f2b7a",
   "metadata": {},
   "outputs": [
    {
     "ename": "NameError",
     "evalue": "name 'features_extractor' is not defined",
     "output_type": "error",
     "traceback": [
      "\u001b[0;31m---------------------------------------------------------------------------\u001b[0m",
      "\u001b[0;31mNameError\u001b[0m                                 Traceback (most recent call last)",
      "Cell \u001b[0;32mIn[1], line 14\u001b[0m\n\u001b[1;32m     11\u001b[0m     \u001b[38;5;66;03m# Prediction.\u001b[39;00m\n\u001b[1;32m     12\u001b[0m     \u001b[38;5;28;01mreturn\u001b[39;00m features\n\u001b[0;32m---> 14\u001b[0m value \u001b[38;5;241m=\u001b[39m \u001b[43mpredict_violence\u001b[49m\u001b[43m(\u001b[49m\u001b[43mfile\u001b[49m\u001b[43m)\u001b[49m\n\u001b[1;32m     16\u001b[0m y \u001b[38;5;241m=\u001b[39m model_load\u001b[38;5;241m.\u001b[39mpredict(value)\n\u001b[1;32m     18\u001b[0m \u001b[38;5;66;03m# Predicting on the test data.\u001b[39;00m\n",
      "Cell \u001b[0;32mIn[1], line 8\u001b[0m, in \u001b[0;36mpredict_violence\u001b[0;34m(file_path)\u001b[0m\n\u001b[1;32m      6\u001b[0m \u001b[38;5;28;01mdef\u001b[39;00m \u001b[38;5;21mpredict_violence\u001b[39m(file_path):\n\u001b[1;32m      7\u001b[0m     \u001b[38;5;66;03m# Extracting features from the audio file.\u001b[39;00m\n\u001b[0;32m----> 8\u001b[0m     features \u001b[38;5;241m=\u001b[39m \u001b[43mfeatures_extractor\u001b[49m(file_path)\n\u001b[1;32m      9\u001b[0m     \u001b[38;5;66;03m# Reshaping the features to make it compatible with LSTM/RNN.\u001b[39;00m\n\u001b[1;32m     10\u001b[0m     features \u001b[38;5;241m=\u001b[39m features\u001b[38;5;241m.\u001b[39mreshape(\u001b[38;5;241m1\u001b[39m,\u001b[38;5;241m1\u001b[39m,\u001b[38;5;241m40\u001b[39m)\n",
      "\u001b[0;31mNameError\u001b[0m: name 'features_extractor' is not defined"
     ]
    }
   ],
   "source": [
    "### Loading the model.\n",
    "file = \"../data/test/test-1.wav\"\n",
    "\n",
    "# Prediction on .wav file.\n",
    "\n",
    "def predict_violence(file_path):\n",
    "    # Extracting features from the audio file.\n",
    "    features = features_extractor(file_path)\n",
    "    # Reshaping the features to make it compatible with LSTM/RNN.\n",
    "    features = features.reshape(1,1,40)\n",
    "    # Prediction.\n",
    "    return features\n",
    "\n",
    "value = predict_violence(file)\n",
    "\n",
    "y = model_load.predict(value)\n",
    "\n",
    "# Predicting on the test data.\n",
    "\n",
    "print(y)\n",
    "print(y[0][0])\n",
    "\n",
    "if y[0][0] > 0.5:\n",
    "    print(\"Violence detected.\")\n",
    "else:\n",
    "    print(\"Non-violence detected.\")\n",
    "\n",
    "\n",
    "\n"
   ]
  },
  {
   "cell_type": "code",
   "execution_count": null,
   "id": "83d46597",
   "metadata": {},
   "outputs": [],
   "source": []
  }
 ],
 "metadata": {
  "kernelspec": {
   "display_name": "Python 3 (ipykernel)",
   "language": "python",
   "name": "python3"
  },
  "language_info": {
   "codemirror_mode": {
    "name": "ipython",
    "version": 3
   },
   "file_extension": ".py",
   "mimetype": "text/x-python",
   "name": "python",
   "nbconvert_exporter": "python",
   "pygments_lexer": "ipython3",
   "version": "3.10.13"
  }
 },
 "nbformat": 4,
 "nbformat_minor": 5
}
