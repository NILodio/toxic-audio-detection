{
 "cells": [
  {
   "cell_type": "code",
   "execution_count": 1,
   "metadata": {
    "tags": []
   },
   "outputs": [],
   "source": [
    "# installing dependencies\n",
    "# !pip install tensorflow\n",
    "# !pip install tensorflow_io"
   ]
  },
  {
   "cell_type": "code",
   "execution_count": 2,
   "metadata": {
    "tags": []
   },
   "outputs": [
    {
     "name": "stderr",
     "output_type": "stream",
     "text": [
      "2024-02-20 23:38:12.899365: I tensorflow/core/util/port.cc:113] oneDNN custom operations are on. You may see slightly different numerical results due to floating-point round-off errors from different computation orders. To turn them off, set the environment variable `TF_ENABLE_ONEDNN_OPTS=0`.\n",
      "2024-02-20 23:38:12.901285: I external/local_tsl/tsl/cuda/cudart_stub.cc:31] Could not find cuda drivers on your machine, GPU will not be used.\n",
      "2024-02-20 23:38:12.926819: E external/local_xla/xla/stream_executor/cuda/cuda_dnn.cc:9261] Unable to register cuDNN factory: Attempting to register factory for plugin cuDNN when one has already been registered\n",
      "2024-02-20 23:38:12.926852: E external/local_xla/xla/stream_executor/cuda/cuda_fft.cc:607] Unable to register cuFFT factory: Attempting to register factory for plugin cuFFT when one has already been registered\n",
      "2024-02-20 23:38:12.927621: E external/local_xla/xla/stream_executor/cuda/cuda_blas.cc:1515] Unable to register cuBLAS factory: Attempting to register factory for plugin cuBLAS when one has already been registered\n",
      "2024-02-20 23:38:12.932137: I external/local_tsl/tsl/cuda/cudart_stub.cc:31] Could not find cuda drivers on your machine, GPU will not be used.\n",
      "2024-02-20 23:38:12.932889: I tensorflow/core/platform/cpu_feature_guard.cc:182] This TensorFlow binary is optimized to use available CPU instructions in performance-critical operations.\n",
      "To enable the following instructions: AVX2 AVX_VNNI FMA, in other operations, rebuild TensorFlow with the appropriate compiler flags.\n",
      "2024-02-20 23:38:13.591754: W tensorflow/compiler/tf2tensorrt/utils/py_utils.cc:38] TF-TRT Warning: Could not find TensorRT\n"
     ]
    }
   ],
   "source": [
    "# import required libraries\n",
    "import pandas as pd\n",
    "import numpy as np\n",
    "import os\n",
    "from matplotlib import pyplot as plt\n",
    "import tensorflow as tf \n",
    "import tensorflow_io as tfio\n",
    "import warnings\n",
    "warnings.filterwarnings(\"ignore\")"
   ]
  },
  {
   "cell_type": "code",
   "execution_count": 3,
   "metadata": {},
   "outputs": [
    {
     "name": "stdout",
     "output_type": "stream",
     "text": [
      "(341, 5)\n"
     ]
    },
    {
     "data": {
      "text/html": [
       "<div>\n",
       "<style scoped>\n",
       "    .dataframe tbody tr th:only-of-type {\n",
       "        vertical-align: middle;\n",
       "    }\n",
       "\n",
       "    .dataframe tbody tr th {\n",
       "        vertical-align: top;\n",
       "    }\n",
       "\n",
       "    .dataframe thead th {\n",
       "        text-align: right;\n",
       "    }\n",
       "</style>\n",
       "<table border=\"1\" class=\"dataframe\">\n",
       "  <thead>\n",
       "    <tr style=\"text-align: right;\">\n",
       "      <th></th>\n",
       "      <th>File_segment_name</th>\n",
       "      <th>Duration</th>\n",
       "      <th>Violence_start</th>\n",
       "      <th>Violence_end</th>\n",
       "      <th>Violence_duration</th>\n",
       "    </tr>\n",
       "  </thead>\n",
       "  <tbody>\n",
       "    <tr>\n",
       "      <th>0</th>\n",
       "      <td>angry_011</td>\n",
       "      <td>117.0</td>\n",
       "      <td>21.0</td>\n",
       "      <td>38.0</td>\n",
       "      <td>17.0</td>\n",
       "    </tr>\n",
       "    <tr>\n",
       "      <th>1</th>\n",
       "      <td>angry_011</td>\n",
       "      <td>117.0</td>\n",
       "      <td>40.0</td>\n",
       "      <td>55.0</td>\n",
       "      <td>15.0</td>\n",
       "    </tr>\n",
       "    <tr>\n",
       "      <th>2</th>\n",
       "      <td>angry_011</td>\n",
       "      <td>117.0</td>\n",
       "      <td>60.0</td>\n",
       "      <td>79.0</td>\n",
       "      <td>19.0</td>\n",
       "    </tr>\n",
       "    <tr>\n",
       "      <th>3</th>\n",
       "      <td>angry_011</td>\n",
       "      <td>117.0</td>\n",
       "      <td>85.0</td>\n",
       "      <td>95.0</td>\n",
       "      <td>10.0</td>\n",
       "    </tr>\n",
       "    <tr>\n",
       "      <th>4</th>\n",
       "      <td>angry_011</td>\n",
       "      <td>117.0</td>\n",
       "      <td>101.0</td>\n",
       "      <td>110.0</td>\n",
       "      <td>9.0</td>\n",
       "    </tr>\n",
       "  </tbody>\n",
       "</table>\n",
       "</div>"
      ],
      "text/plain": [
       "  File_segment_name  Duration  Violence_start  Violence_end  Violence_duration\n",
       "0         angry_011     117.0            21.0          38.0               17.0\n",
       "1         angry_011     117.0            40.0          55.0               15.0\n",
       "2         angry_011     117.0            60.0          79.0               19.0\n",
       "3         angry_011     117.0            85.0          95.0               10.0\n",
       "4         angry_011     117.0           101.0         110.0                9.0"
      ]
     },
     "execution_count": 3,
     "metadata": {},
     "output_type": "execute_result"
    }
   ],
   "source": [
    "# read the excel file and load it into a Dataframe\n",
    "DIR_EXCEL = os.path.join('..', 'data', 'VSD.xlsx')\n",
    "df = pd.read_excel(DIR_EXCEL, sheet_name='read_dataset')\n",
    "print(df.shape)\n",
    "df.head(5)"
   ]
  },
  {
   "cell_type": "code",
   "execution_count": 4,
   "metadata": {},
   "outputs": [
    {
     "data": {
      "text/plain": [
       "3050.9139999999998"
      ]
     },
     "execution_count": 4,
     "metadata": {},
     "output_type": "execute_result"
    }
   ],
   "source": [
    "df['Violence_duration'].sum()"
   ]
  },
  {
   "cell_type": "code",
   "execution_count": 5,
   "metadata": {},
   "outputs": [
    {
     "name": "stdout",
     "output_type": "stream",
     "text": [
      "110\n"
     ]
    },
    {
     "data": {
      "text/plain": [
       "['angry_011.wav',\n",
       " 'angry_012.wav',\n",
       " 'angry_013.wav',\n",
       " 'angry_014.wav',\n",
       " 'angry_015.wav',\n",
       " 'angry_211.wav',\n",
       " 'noviolence_01.wav',\n",
       " 'noviolence_02.wav',\n",
       " 'noviolence_03.wav',\n",
       " 'noviolence_04.wav']"
      ]
     },
     "execution_count": 5,
     "metadata": {},
     "output_type": "execute_result"
    }
   ],
   "source": [
    "# load all audio filenames into a list (discard redundant audios, example: angry_01.wav)\n",
    "DIR_DATA = os.path.join('..', 'data', 'audios_VSD', 'audios_VSD')\n",
    "redundant_audio_len = len('angry_01.wav')\n",
    "filenames = [filename for filename in os.listdir(DIR_DATA) if len(filename) != redundant_audio_len]\n",
    "print(len(filenames)) # how many audio files do we have (excluding redundant audios)\n",
    "filenames[:5] + filenames[len(filenames)-5:] # print first 5 and last 5 filenames"
   ]
  },
  {
   "cell_type": "code",
   "execution_count": 6,
   "metadata": {},
   "outputs": [
    {
     "name": "stdout",
     "output_type": "stream",
     "text": [
      "['angry_203.wav', 'angry_204.wav', 'angry_205.wav', 'angry_206.wav', 'angry_211.wav']\n",
      "['noviolence_01.wav', 'noviolence_02.wav', 'noviolence_03.wav', 'noviolence_04.wav']\n"
     ]
    }
   ],
   "source": [
    "# let's divide toxic audio filenames and non-toxic audio filenames\n",
    "toxic_filenames = filenames[:-4]\n",
    "nontoxic_filenames = filenames[-4:]\n",
    "print(toxic_filenames[-5:])\n",
    "print(nontoxic_filenames)"
   ]
  },
  {
   "cell_type": "code",
   "execution_count": 7,
   "metadata": {},
   "outputs": [
    {
     "data": {
      "text/plain": [
       "'angry_011.wav'"
      ]
     },
     "execution_count": 7,
     "metadata": {},
     "output_type": "execute_result"
    }
   ],
   "source": [
    "EXAMPLE_FILENAME = filenames[0]\n",
    "EXAMPLE_FILENAME"
   ]
  },
  {
   "cell_type": "code",
   "execution_count": 8,
   "metadata": {
    "tags": []
   },
   "outputs": [],
   "source": [
    "# function to get wave data from an audio file\n",
    "SAMPLES_PER_SECOND = 16000\n",
    "def load_wav_16k_mono(filename):\n",
    "    # Load encoded wav file\n",
    "    file_contents = tf.io.read_file(filename)\n",
    "    # Decode wav (tensors by channels) \n",
    "    wav, sample_rate = tf.audio.decode_wav(file_contents, desired_channels=1)\n",
    "    # Removes trailing axis\n",
    "    wav = tf.squeeze(wav, axis=-1)\n",
    "    sample_rate = tf.cast(sample_rate, dtype=tf.int64)\n",
    "    # Goes from 44100Hz to 16000hz - amplitude of the audio signal\n",
    "    wav = tfio.audio.resample(wav, rate_in=sample_rate, rate_out=SAMPLES_PER_SECOND)\n",
    "    return wav"
   ]
  },
  {
   "cell_type": "code",
   "execution_count": 9,
   "metadata": {},
   "outputs": [
    {
     "name": "stderr",
     "output_type": "stream",
     "text": [
      "2024-02-20 23:38:14.874960: I tensorflow_io/core/kernels/cpu_check.cc:128] Your CPU supports instructions that this TensorFlow IO binary was not compiled to use: SSE3 SSE4.1 SSE4.2 AVX AVX2 FMA\n",
      "2024-02-20 23:38:14.931094: W tensorflow_io/core/kernels/audio_video_mp3_kernels.cc:271] libmp3lame.so.0 or lame functions are not available\n"
     ]
    },
    {
     "data": {
      "text/plain": [
       "<tf.Tensor: shape=(1872000,), dtype=float32, numpy=\n",
       "array([-1.5588116e-06,  4.4376916e-06, -4.4316839e-06, ...,\n",
       "       -3.2952270e-01, -3.9674458e-01, -3.0953401e-01], dtype=float32)>"
      ]
     },
     "execution_count": 9,
     "metadata": {},
     "output_type": "execute_result"
    }
   ],
   "source": [
    "# get wave from example audio file and plot it\n",
    "wave = load_wav_16k_mono(os.path.join(DIR_DATA, EXAMPLE_FILENAME))\n",
    "wave"
   ]
  },
  {
   "cell_type": "code",
   "execution_count": 10,
   "metadata": {},
   "outputs": [
    {
     "data": {
      "image/png": "[encoded data removed]",
      "text/plain": [
       "<Figure size 640x480 with 1 Axes>"
      ]
     },
     "metadata": {},
     "output_type": "display_data"
    }
   ],
   "source": [
    "plt.plot(wave)\n",
    "plt.show()"
   ]
  },
  {
   "cell_type": "code",
   "execution_count": 11,
   "metadata": {},
   "outputs": [
    {
     "name": "stdout",
     "output_type": "stream",
     "text": [
      "WARNING:tensorflow:5 out of the last 5 calls to <function pfor.<locals>.f at 0x7f93ac694f70> triggered tf.function retracing. Tracing is expensive and the excessive number of tracings could be due to (1) creating @tf.function repeatedly in a loop, (2) passing tensors with different shapes, (3) passing Python objects instead of tensors. For (1), please define your @tf.function outside of the loop. For (2), @tf.function has reduce_retracing=True option that can avoid unnecessary retracing. For (3), please refer to https://www.tensorflow.org/guide/function#controlling_retracing and https://www.tensorflow.org/api_docs/python/tf/function for  more details.\n",
      "WARNING:tensorflow:6 out of the last 6 calls to <function pfor.<locals>.f at 0x7f93ac6952d0> triggered tf.function retracing. Tracing is expensive and the excessive number of tracings could be due to (1) creating @tf.function repeatedly in a loop, (2) passing tensors with different shapes, (3) passing Python objects instead of tensors. For (1), please define your @tf.function outside of the loop. For (2), @tf.function has reduce_retracing=True option that can avoid unnecessary retracing. For (3), please refer to https://www.tensorflow.org/guide/function#controlling_retracing and https://www.tensorflow.org/api_docs/python/tf/function for  more details.\n",
      "106\n"
     ]
    }
   ],
   "source": [
    "# get all waves from all audiofiles\n",
    "waves = []\n",
    "for filename in toxic_filenames:\n",
    "    waves.append((filename, load_wav_16k_mono(os.path.join(DIR_DATA, filename))))\n",
    "print(len(waves))"
   ]
  },
  {
   "cell_type": "code",
   "execution_count": 12,
   "metadata": {},
   "outputs": [
    {
     "name": "stdout",
     "output_type": "stream",
     "text": [
      "3044 seconds\n"
     ]
    },
    {
     "data": {
      "text/plain": [
       "310"
      ]
     },
     "execution_count": 12,
     "metadata": {},
     "output_type": "execute_result"
    }
   ],
   "source": [
    "# let's slice the waves and retrieve ONLY the toxic segments\n",
    "segments = []\n",
    "audio_length = 0 # sum all segments length in seconds\n",
    "for filename, wave in waves:\n",
    "    sub_df = df[df['File_segment_name'] == filename[:-4]]\n",
    "    for i in range(sub_df.shape[0]):\n",
    "        start = sub_df.iloc[i][2]\n",
    "        start_sample = int(start * SAMPLES_PER_SECOND) # calculate the start of the segment in sample index\n",
    "        size = sub_df.iloc[i][4]\n",
    "        size_sample = int(size * SAMPLES_PER_SECOND) # calculate the size of the segment in number of samples\n",
    "        if start_sample + size_sample >= len(wave): # make sure that the start + size of the segment don't go outside audio boundries\n",
    "            size_sample = len(wave) - start_sample\n",
    "        if size_sample < 1 * SAMPLES_PER_SECOND: # exclude audio segments shorter than 1 second (excluding 27 segments)\n",
    "            continue\n",
    "        audio_length += size_sample # keep adding the segment length in seconds\n",
    "        slice = tf.slice(wave, begin=[start_sample], size=[size_sample])\n",
    "        segments.append((filename[:-4] + \"_\" + str(i), slice))\n",
    "audio_length_secs = audio_length // SAMPLES_PER_SECOND\n",
    "print(audio_length_secs, \"seconds\")\n",
    "len(segments)"
   ]
  },
  {
   "cell_type": "code",
   "execution_count": 13,
   "metadata": {},
   "outputs": [
    {
     "data": {
      "text/plain": [
       "<tf.Tensor: shape=(48704000,), dtype=float32, numpy=\n",
       "array([-0.00717086, -0.00667315, -0.00130043, ..., -0.02748326,\n",
       "       -0.04429958, -0.03331839], dtype=float32)>"
      ]
     },
     "execution_count": 13,
     "metadata": {},
     "output_type": "execute_result"
    }
   ],
   "source": [
    "# now that we have 3044 seconds of only toxic audio...\n",
    "# let's join all segments, and slice them again in 10 second segments\n",
    "# this will give us 304 equal length segments that we can use to train a model\n",
    "segments_joined = tf.concat([segment[1] for segment in segments], 0)\n",
    "# get rid of the last 4 seconds, just so we have exactly 3040 seconds\n",
    "segments_joined = segments_joined[:SAMPLES_PER_SECOND * audio_length_secs]\n",
    "segments_joined"
   ]
  },
  {
   "cell_type": "code",
   "execution_count": 14,
   "metadata": {},
   "outputs": [
    {
     "name": "stdout",
     "output_type": "stream",
     "text": [
      "304\n"
     ]
    },
    {
     "data": {
      "text/plain": [
       "[<tf.Tensor: shape=(160000,), dtype=float32, numpy=\n",
       " array([-0.00717086, -0.00667315, -0.00130043, ..., -0.01246491,\n",
       "        -0.02152932, -0.03510552], dtype=float32)>,\n",
       " <tf.Tensor: shape=(160000,), dtype=float32, numpy=\n",
       " array([-0.00289301,  0.03021058,  0.06220048, ...,  0.01427979,\n",
       "         0.00470128, -0.01379599], dtype=float32)>,\n",
       " <tf.Tensor: shape=(160000,), dtype=float32, numpy=\n",
       " array([-1.3426694e-02, -1.5097812e-02, -1.8019384e-02, ...,\n",
       "        -1.0372097e-02,  3.7835867e-05,  1.3889559e-02], dtype=float32)>,\n",
       " <tf.Tensor: shape=(160000,), dtype=float32, numpy=\n",
       " array([ 0.00511254, -0.01175897, -0.02543719, ...,  0.01161133,\n",
       "        -0.00840763, -0.0119929 ], dtype=float32)>,\n",
       " <tf.Tensor: shape=(160000,), dtype=float32, numpy=\n",
       " array([ 0.00732741,  0.00285657, -0.00698765, ..., -0.06338346,\n",
       "        -0.1051461 , -0.12990886], dtype=float32)>]"
      ]
     },
     "execution_count": 14,
     "metadata": {},
     "output_type": "execute_result"
    }
   ],
   "source": [
    "# let's create the 10 second segments out of the 3040 sec of toxic audio only\n",
    "SECONDS_PER_SEGMENT = 10\n",
    "num_segments = audio_length_secs // SECONDS_PER_SEGMENT\n",
    "SAMPLES_PER_SEGMENT = SECONDS_PER_SEGMENT * SAMPLES_PER_SECOND\n",
    "new_segments = []\n",
    "for i in range(num_segments):\n",
    "    start_sample = i * SAMPLES_PER_SECOND\n",
    "    new_segment = tf.slice(segments_joined, begin=[start_sample], size=[SAMPLES_PER_SEGMENT])\n",
    "    new_segments.append(new_segment)\n",
    "print(len(new_segments))\n",
    "new_segments[:5]"
   ]
  },
  {
   "cell_type": "code",
   "execution_count": 15,
   "metadata": {},
   "outputs": [],
   "source": [
    "# now that we have 304 TOXIC audio segments\n",
    "# let's create 304 NON-TOXIC audio segments\n",
    "# just so we have balanced data to train a model\n",
    "nontoxic_waves = []\n",
    "# due to the great length of non toxic audios we have to process them 1 by 1, outside a loop\n",
    "filename = nontoxic_filenames[0:1][0]\n",
    "nontoxic_waves.append((filename, load_wav_16k_mono(os.path.join(DIR_DATA, filename))))"
   ]
  },
  {
   "cell_type": "code",
   "execution_count": 16,
   "metadata": {},
   "outputs": [],
   "source": [
    "# This audio contains too many zeroes. Let's skip it for now.\n",
    "# due to the great length of non toxic audios we have to process them 1 by 1, outside a loop\n",
    "# filename = nontoxic_filenames[1:2][0]\n",
    "# nontoxic_waves.append((filename, load_wav_16k_mono(os.path.join(DIR_DATA, filename))))"
   ]
  },
  {
   "cell_type": "code",
   "execution_count": 17,
   "metadata": {},
   "outputs": [],
   "source": [
    "# This audio is TOO LARGE, don't run this block\n",
    "# due to the great length of non toxic audios we have to process them 1 by 1, outside a loop\n",
    "# filename = nontoxic_filenames[2:3][0]\n",
    "# nontoxic_waves.append((filename, load_wav_16k_mono(os.path.join(DIR_DATA, filename))))"
   ]
  },
  {
   "cell_type": "code",
   "execution_count": 18,
   "metadata": {},
   "outputs": [],
   "source": [
    "# due to the great length of non toxic audios we have to process them 1 by 1, outside a loop\n",
    "filename = nontoxic_filenames[3:4][0]\n",
    "nontoxic_waves.append((filename, load_wav_16k_mono(os.path.join(DIR_DATA, filename))))"
   ]
  },
  {
   "cell_type": "code",
   "execution_count": 19,
   "metadata": {},
   "outputs": [
    {
     "data": {
      "text/plain": [
       "[('noviolence_01.wav',\n",
       "  <tf.Tensor: shape=(79023542,), dtype=float32, numpy=\n",
       "  array([ 0.0000000e+00, -1.5518568e-10,  5.7849368e-11, ...,\n",
       "          1.3298860e-03,  5.5263093e-04,  5.1844068e-04], dtype=float32)>),\n",
       " ('noviolence_04.wav',\n",
       "  <tf.Tensor: shape=(59695856,), dtype=float32, numpy=\n",
       "  array([ 0.        ,  0.        ,  0.        , ...,  0.00554482,\n",
       "         -0.02701107, -0.03128438], dtype=float32)>)]"
      ]
     },
     "execution_count": 19,
     "metadata": {},
     "output_type": "execute_result"
    }
   ],
   "source": [
    "nontoxic_waves"
   ]
  },
  {
   "cell_type": "code",
   "execution_count": 20,
   "metadata": {},
   "outputs": [
    {
     "name": "stdout",
     "output_type": "stream",
     "text": [
      "304\n"
     ]
    },
    {
     "data": {
      "text/plain": [
       "[(1, 42439714), (0, 16491501), (0, 29060746), (0, 13600358), (0, 23827472)]"
      ]
     },
     "execution_count": 20,
     "metadata": {},
     "output_type": "execute_result"
    }
   ],
   "source": [
    "# let's randomnly create 304 segments from the loaded nontoxic audio files\n",
    "import random\n",
    "# let's define the segment starts and ensure that they don't overlap (we don't want redundant data for training)\n",
    "starts = []\n",
    "num_segments = 304\n",
    "for i in range(num_segments):\n",
    "    # first let's randomly select 1 out of the 3 nontoxic audio files\n",
    "    new_audio_index = random.randint(0, len(nontoxic_waves)-1)\n",
    "    current_size = len(starts)\n",
    "    while current_size == len(starts):\n",
    "        new_start = random.randint(0, len(nontoxic_waves[new_audio_index][1]))\n",
    "        passed_validation = True\n",
    "        for audio_index, start in starts:\n",
    "            if new_audio_index != audio_index:\n",
    "                continue\n",
    "            if new_start >= start - SAMPLES_PER_SEGMENT and new_start <= start + SAMPLES_PER_SEGMENT:\n",
    "                passed_validation = False\n",
    "                break\n",
    "            if new_start + SAMPLES_PER_SEGMENT >= len(nontoxic_waves[new_audio_index][1]):\n",
    "                passed_validation = False\n",
    "                break\n",
    "        if passed_validation:\n",
    "            starts.append((new_audio_index, new_start))\n",
    "print(len(starts))\n",
    "starts[:5]"
   ]
  },
  {
   "cell_type": "code",
   "execution_count": 21,
   "metadata": {},
   "outputs": [
    {
     "data": {
      "text/plain": [
       "160000"
      ]
     },
     "execution_count": 21,
     "metadata": {},
     "output_type": "execute_result"
    }
   ],
   "source": [
    "SAMPLES_PER_SEGMENT"
   ]
  },
  {
   "cell_type": "code",
   "execution_count": 22,
   "metadata": {},
   "outputs": [
    {
     "name": "stdout",
     "output_type": "stream",
     "text": [
      "304\n"
     ]
    },
    {
     "data": {
      "text/plain": [
       "[<tf.Tensor: shape=(160000,), dtype=float32, numpy=\n",
       " array([ 0.03724594,  0.03804259,  0.04164317, ...,  0.00084975,\n",
       "        -0.00115096, -0.00121317], dtype=float32)>,\n",
       " <tf.Tensor: shape=(160000,), dtype=float32, numpy=\n",
       " array([-0.01415091, -0.01351208, -0.08192375, ..., -0.00840883,\n",
       "         0.00607567, -0.00568069], dtype=float32)>,\n",
       " <tf.Tensor: shape=(160000,), dtype=float32, numpy=\n",
       " array([-0.09857059, -0.09281269, -0.09375795, ..., -0.00931696,\n",
       "        -0.01029179, -0.0046925 ], dtype=float32)>,\n",
       " <tf.Tensor: shape=(160000,), dtype=float32, numpy=\n",
       " array([-0.02128833, -0.02228308, -0.0225965 , ..., -0.04452484,\n",
       "        -0.03110448, -0.01466554], dtype=float32)>,\n",
       " <tf.Tensor: shape=(160000,), dtype=float32, numpy=\n",
       " array([ 1.0806185e-02,  1.6107699e-02,  1.3992631e-02, ...,\n",
       "        -1.1816708e-03, -2.6568978e-03,  4.2064465e-05], dtype=float32)>]"
      ]
     },
     "execution_count": 22,
     "metadata": {},
     "output_type": "execute_result"
    }
   ],
   "source": [
    "# now that we have the randomly generated starts of the non toxic audio segments\n",
    "# let's actually go ahead and generate these segments based on the non overlapping starts\n",
    "nontoxic_segments = []\n",
    "for i, start in enumerate(starts):\n",
    "    nontoxic_wave = nontoxic_waves[start[0]][1] # get the corresponding nontoxic audio tensor\n",
    "    slice = tf.slice(nontoxic_wave, begin=[start[1]], size=[SAMPLES_PER_SEGMENT])\n",
    "    nontoxic_segments.append(slice) # (nontoxic_waves[start[0]][0][:-4] + \"_\" + str(i),\n",
    "print(len(nontoxic_segments))\n",
    "nontoxic_segments[:5]"
   ]
  },
  {
   "cell_type": "code",
   "execution_count": 23,
   "metadata": {},
   "outputs": [
    {
     "name": "stdout",
     "output_type": "stream",
     "text": [
      "304\n",
      "304\n"
     ]
    }
   ],
   "source": [
    "# Now we finally have 304 TOXIC AUDIO FILES of 10 SECOND LENGTH and 304 NON-TOXIC AUDIO FILES of 10 second length as well\n",
    "# They are both saved in the following variables:\n",
    "toxic_segments = new_segments\n",
    "print(len(toxic_segments)) # toxic segments\n",
    "print(len(nontoxic_segments)) # non-toxic segments"
   ]
  },
  {
   "cell_type": "code",
   "execution_count": 24,
   "metadata": {},
   "outputs": [],
   "source": [
    "# Failed: tried to convert segments back into audios\n",
    "# file_contents = tf.io.read_file(os.path.join(DIR_DATA, toxic_filenames[0]))\n",
    "# # Decode wav (tensors by channels) \n",
    "# wav, sample_rate_ = tf.audio.decode_wav(file_contents, desired_channels=1)\n",
    "# sample_rate_\n",
    "# tf.audio.encode_wav(wav, sample_rate=sample_rate_)"
   ]
  },
  {
   "cell_type": "code",
   "execution_count": 25,
   "metadata": {},
   "outputs": [],
   "source": [
    "# let's convert our audio segments into spectograms, as these will be used to train the model\n",
    "def convert_wav_into_spectrogram(wav, label):\n",
    "    spectrogram = tf.signal.stft(wav, frame_length=320, frame_step=32)\n",
    "    spectrogram = tf.abs(spectrogram)\n",
    "    spectrogram = tf.expand_dims(spectrogram, axis=2)\n",
    "    return spectrogram, label\n",
    "\n",
    "# following function is discarded for now\n",
    "def convert_wavs_into_spectrograms(wavs):\n",
    "    # return [convert_wav_into_spectrogram(wav) for wav in wavs]\n",
    "    spectrograms = []\n",
    "    for i, wav in enumerate(wavs):\n",
    "        print(i, end=\", \")\n",
    "        spectrograms.append(convert_wav_into_spectrogram(wav))\n",
    "    return spectrograms"
   ]
  },
  {
   "cell_type": "code",
   "execution_count": 26,
   "metadata": {},
   "outputs": [],
   "source": [
    "# toxic_spectrograms = convert_wavs_into_spectrograms(toxic_segments)"
   ]
  },
  {
   "cell_type": "code",
   "execution_count": 27,
   "metadata": {},
   "outputs": [],
   "source": [
    "# nontoxic_spectrograms = convert_wavs_into_spectrograms(nontoxic_segments)"
   ]
  },
  {
   "cell_type": "code",
   "execution_count": 30,
   "metadata": {
    "scrolled": true
   },
   "outputs": [],
   "source": [
    "print(len(toxic_spectrograms))\n",
    "print(len(nontoxic_spectrograms))"
   ]
  },
  {
   "cell_type": "code",
   "execution_count": 31,
   "metadata": {
    "scrolled": true
   },
   "outputs": [],
   "source": [
    "# now that we have the spectrograms, let's visualize a couple of them, 1 toxic and 1 non-toxic\n",
    "# TOXIC SPECTROGRAM\n",
    "plt.figure(figsize=(15,15))\n",
    "plt.imshow(tf.transpose(toxic_spectrograms[32])[0])\n",
    "plt.show()"
   ]
  },
  {
   "cell_type": "code",
   "execution_count": null,
   "metadata": {},
   "outputs": [],
   "source": [
    "# NON-TOXIC SPECTROGRAM\n",
    "plt.figure(figsize=(15,15))\n",
    "plt.imshow(tf.transpose(nontoxic_spectrograms[32])[0])\n",
    "plt.show()"
   ]
  },
  {
   "cell_type": "code",
   "execution_count": null,
   "metadata": {},
   "outputs": [],
   "source": [
    "display(toxic_spectrograms[0].shape)\n",
    "display(nontoxic_spectrograms[0].shape)"
   ]
  },
  {
   "cell_type": "code",
   "execution_count": 33,
   "metadata": {},
   "outputs": [
    {
     "data": {
      "text/plain": [
       "608"
      ]
     },
     "execution_count": 33,
     "metadata": {},
     "output_type": "execute_result"
    }
   ],
   "source": [
    "pos = tf.data.Dataset.from_tensor_slices(toxic_segments)\n",
    "neg = tf.data.Dataset.from_tensor_slices(nontoxic_segments)\n",
    "positives = tf.data.Dataset.zip((pos, tf.data.Dataset.from_tensor_slices(tf.ones(len(pos)))))\n",
    "negatives = tf.data.Dataset.zip((neg, tf.data.Dataset.from_tensor_slices(tf.zeros(len(neg)))))\n",
    "data = positives.concatenate(negatives)\n",
    "len(data)"
   ]
  },
  {
   "cell_type": "code",
   "execution_count": 34,
   "metadata": {},
   "outputs": [
    {
     "data": {
      "text/plain": [
       "(array([-0.02248843, -0.0230893 , -0.01703623, ...,  0.03062811,\n",
       "         0.04080442,  0.03917713], dtype=float32),\n",
       " 1.0)"
      ]
     },
     "execution_count": 34,
     "metadata": {},
     "output_type": "execute_result"
    }
   ],
   "source": [
    "wav, label = positives.shuffle(buffer_size=10000).as_numpy_iterator().next()\n",
    "wav, label"
   ]
  },
  {
   "cell_type": "code",
   "execution_count": 35,
   "metadata": {},
   "outputs": [],
   "source": [
    "spectrogram, label = convert_wav_into_spectrogram(wav, label)"
   ]
  },
  {
   "cell_type": "code",
   "execution_count": 36,
   "metadata": {},
   "outputs": [],
   "source": [
    "data = data.map(convert_wav_into_spectrogram)\n",
    "data = data.cache()\n",
    "data = data.shuffle(buffer_size=1000)\n",
    "data = data.batch(16) # creates 38 batches of 16 audio samples per batch = 608 audio samples\n",
    "data = data.prefetch(8) # to avoid CPU bottlenecking"
   ]
  },
  {
   "cell_type": "code",
   "execution_count": 37,
   "metadata": {},
   "outputs": [
    {
     "name": "stdout",
     "output_type": "stream",
     "text": [
      "38\n",
      "27\n",
      "11\n"
     ]
    }
   ],
   "source": [
    "# let's calculate the number of batches for test and training\n",
    "import math\n",
    "print(len(data)) # 38 batches of 16 audio samples\n",
    "train_num_batches = math.ceil(len(data)*0.7)\n",
    "test_num_batches = math.floor(len(data)*0.3)\n",
    "print(train_num_batches) # train number of batches\n",
    "print(test_num_batches) # test number of batches"
   ]
  },
  {
   "cell_type": "code",
   "execution_count": 38,
   "metadata": {},
   "outputs": [],
   "source": [
    "train = data.take(train_num_batches)\n",
    "test = data.skip(train_num_batches).take(test_num_batches)"
   ]
  },
  {
   "cell_type": "code",
   "execution_count": 39,
   "metadata": {},
   "outputs": [
    {
     "data": {
      "text/plain": [
       "(16, 4991, 257, 1)"
      ]
     },
     "execution_count": 39,
     "metadata": {},
     "output_type": "execute_result"
    }
   ],
   "source": [
    "samples, labels = train.as_numpy_iterator().next()\n",
    "samples.shape"
   ]
  },
  {
   "cell_type": "code",
   "execution_count": 40,
   "metadata": {},
   "outputs": [],
   "source": [
    "from tensorflow.keras.models import Sequential\n",
    "from tensorflow.keras.layers import Conv2D, Dense, Flatten"
   ]
  },
  {
   "cell_type": "code",
   "execution_count": null,
   "metadata": {},
   "outputs": [],
   "source": [
    "def"
   ]
  },
  {
   "cell_type": "code",
   "execution_count": 49,
   "metadata": {},
   "outputs": [],
   "source": [
    "model = Sequential()\n",
    "model.add(Conv2D(16, (3,3), activation='relu', input_shape=(4991, 257,1)))\n",
    "model.add(Conv2D(16, (3,3), activation='relu'))\n",
    "model.add(Flatten())"
   ]
  },
  {
   "cell_type": "code",
   "execution_count": null,
   "metadata": {},
   "outputs": [],
   "source": [
    "model.add(Dense(128, activation='relu'))"
   ]
  },
  {
   "cell_type": "code",
   "execution_count": null,
   "metadata": {},
   "outputs": [],
   "source": [
    "model.compile('Adam', loss='BinaryCrossentropy', metrics=[tf.keras.metrics.Recall(),tf.keras.metrics.Precision()])"
   ]
  },
  {
   "cell_type": "code",
   "execution_count": 48,
   "metadata": {},
   "outputs": [
    {
     "name": "stdout",
     "output_type": "stream",
     "text": [
      "Model: \"sequential_6\"\n",
      "_________________________________________________________________\n",
      " Layer (type)                Output Shape              Param #   \n",
      "=================================================================\n",
      " conv2d_11 (Conv2D)          (None, 4989, 255, 16)     160       \n",
      "                                                                 \n",
      " conv2d_12 (Conv2D)          (None, 4987, 253, 16)     2320      \n",
      "                                                                 \n",
      " flatten_4 (Flatten)         (None, 20187376)          0         \n",
      "                                                                 \n",
      "=================================================================\n",
      "Total params: 2480 (9.69 KB)\n",
      "Trainable params: 2480 (9.69 KB)\n",
      "Non-trainable params: 0 (0.00 Byte)\n",
      "_________________________________________________________________\n"
     ]
    }
   ],
   "source": [
    "model.summary()"
   ]
  },
  {
   "cell_type": "markdown",
   "metadata": {},
   "source": [
    "## 6.3 Test One Batch"
   ]
  },
  {
   "cell_type": "code",
   "execution_count": null,
   "metadata": {
    "tags": []
   },
   "outputs": [],
   "source": [
    "samples, labels = train.as_numpy_iterator().next()"
   ]
  },
  {
   "cell_type": "code",
   "execution_count": null,
   "metadata": {
    "tags": []
   },
   "outputs": [],
   "source": [
    "samples.shape"
   ]
  },
  {
   "cell_type": "markdown",
   "metadata": {},
   "source": [
    "# 7. Build Deep Learning Model"
   ]
  },
  {
   "cell_type": "markdown",
   "metadata": {},
   "source": [
    "## 7.1 Load Tensorflow Dependencies"
   ]
  },
  {
   "cell_type": "code",
   "execution_count": null,
   "metadata": {
    "tags": []
   },
   "outputs": [],
   "source": [
    "from tensorflow.keras.models import Sequential\n",
    "from tensorflow.keras.layers import Conv2D, Dense, Flatten"
   ]
  },
  {
   "cell_type": "markdown",
   "metadata": {},
   "source": [
    "## 7.2 Build Sequential Model, Compile and View Summary"
   ]
  },
  {
   "cell_type": "code",
   "execution_count": null,
   "metadata": {
    "tags": []
   },
   "outputs": [],
   "source": [
    "model = Sequential()\n",
    "model.add(Conv2D(16, (3,3), activation='relu', input_shape=(4991, 257,1)))\n",
    "model.add(Conv2D(16, (3,3), activation='relu'))\n",
    "model.add(Flatten())\n",
    "model.add(Dense(128, activation='relu'))\n",
    "model.add(Dense(1, activation='sigmoid'))"
   ]
  },
  {
   "cell_type": "code",
   "execution_count": null,
   "metadata": {
    "tags": []
   },
   "outputs": [],
   "source": [
    "model.compile('Adam', loss='BinaryCrossentropy', metrics=[tf.keras.metrics.Recall(),tf.keras.metrics.Precision()])"
   ]
  },
  {
   "cell_type": "code",
   "execution_count": null,
   "metadata": {
    "tags": []
   },
   "outputs": [],
   "source": [
    "model.summary()"
   ]
  },
  {
   "cell_type": "markdown",
   "metadata": {},
   "source": [
    "## 7.3 Fit Model, View Loss and KPI Plots"
   ]
  },
  {
   "cell_type": "code",
   "execution_count": null,
   "metadata": {
    "tags": []
   },
   "outputs": [],
   "source": [
    "hist = model.fit(train, epochs=4, validation_data=test)"
   ]
  },
  {
   "cell_type": "code",
   "execution_count": null,
   "metadata": {
    "tags": []
   },
   "outputs": [],
   "source": [
    "plt.title('Loss')\n",
    "plt.plot(hist.history['loss'], 'r')\n",
    "plt.plot(hist.history['val_loss'], 'b')\n",
    "plt.show()"
   ]
  },
  {
   "cell_type": "code",
   "execution_count": null,
   "metadata": {
    "tags": []
   },
   "outputs": [],
   "source": [
    "plt.title('Precision')\n",
    "plt.plot(hist.history['precision'], 'r')\n",
    "plt.plot(hist.history['val_precision'], 'b')\n",
    "plt.show()"
   ]
  },
  {
   "cell_type": "code",
   "execution_count": null,
   "metadata": {
    "tags": []
   },
   "outputs": [],
   "source": [
    "plt.title('Recall')\n",
    "plt.plot(hist.history['recall'], 'r')\n",
    "plt.plot(hist.history['val_recall'], 'b')\n",
    "plt.show()"
   ]
  },
  {
   "cell_type": "markdown",
   "metadata": {},
   "source": [
    "# 8. Make a Prediction on a Single Clip"
   ]
  },
  {
   "cell_type": "markdown",
   "metadata": {},
   "source": [
    "## 8.1 Get One Batch and Make a Prediction"
   ]
  },
  {
   "cell_type": "code",
   "execution_count": null,
   "metadata": {
    "tags": []
   },
   "outputs": [],
   "source": [
    "X_test, y_test = test.as_numpy_iterator().next()"
   ]
  },
  {
   "cell_type": "code",
   "execution_count": null,
   "metadata": {
    "tags": []
   },
   "outputs": [],
   "source": [
    "yhat = model.predict(X_test)"
   ]
  },
  {
   "cell_type": "markdown",
   "metadata": {},
   "source": [
    "## 8.2 Convert Logits to Classes "
   ]
  },
  {
   "cell_type": "code",
   "execution_count": null,
   "metadata": {
    "tags": []
   },
   "outputs": [],
   "source": [
    "yhat = [1 if prediction > 0.5 else 0 for prediction in yhat]"
   ]
  },
  {
   "cell_type": "markdown",
   "metadata": {
    "tags": []
   },
   "source": [
    "# 9. Build Forest Parsing Functions"
   ]
  },
  {
   "cell_type": "markdown",
   "metadata": {},
   "source": [
    "## 9.1 Load up MP3s"
   ]
  },
  {
   "cell_type": "code",
   "execution_count": null,
   "metadata": {},
   "outputs": [],
   "source": [
    "def load_mp3_16k_mono(filename):\n",
    "    \"\"\" Load a WAV file, convert it to a float tensor, resample to 16 kHz single-channel audio. \"\"\"\n",
    "    res = tfio.audio.AudioIOTensor(filename)\n",
    "    # Convert to tensor and combine channels \n",
    "    tensor = res.to_tensor()\n",
    "    tensor = tf.math.reduce_sum(tensor, axis=1) / 2 \n",
    "    # Extract sample rate and cast\n",
    "    sample_rate = res.rate\n",
    "    sample_rate = tf.cast(sample_rate, dtype=tf.int64)\n",
    "    # Resample to 16 kHz\n",
    "    wav = tfio.audio.resample(tensor, rate_in=sample_rate, rate_out=16000)\n",
    "    return wav"
   ]
  },
  {
   "cell_type": "code",
   "execution_count": null,
   "metadata": {},
   "outputs": [],
   "source": [
    "mp3 = os.path.join('data', 'Forest Recordings', 'recording_00.mp3')"
   ]
  },
  {
   "cell_type": "code",
   "execution_count": null,
   "metadata": {
    "tags": []
   },
   "outputs": [],
   "source": [
    "wav = load_mp3_16k_mono(mp3)"
   ]
  },
  {
   "cell_type": "code",
   "execution_count": null,
   "metadata": {},
   "outputs": [],
   "source": [
    "audio_slices = tf.keras.utils.timeseries_dataset_from_array(wav, wav, sequence_length=48000, sequence_stride=48000, batch_size=1)"
   ]
  },
  {
   "cell_type": "code",
   "execution_count": null,
   "metadata": {},
   "outputs": [],
   "source": [
    "samples, index = audio_slices.as_numpy_iterator().next()"
   ]
  },
  {
   "cell_type": "markdown",
   "metadata": {},
   "source": [
    "## 9.2 Build Function to Convert Clips into Windowed Spectrograms"
   ]
  },
  {
   "cell_type": "code",
   "execution_count": null,
   "metadata": {},
   "outputs": [],
   "source": [
    "def preprocess_mp3(sample, index):\n",
    "    sample = sample[0]\n",
    "    zero_padding = tf.zeros([48000] - tf.shape(sample), dtype=tf.float32)\n",
    "    wav = tf.concat([zero_padding, sample],0)\n",
    "    spectrogram = tf.signal.stft(wav, frame_length=320, frame_step=32)\n",
    "    spectrogram = tf.abs(spectrogram)\n",
    "    spectrogram = tf.expand_dims(spectrogram, axis=2)\n",
    "    return spectrogram"
   ]
  },
  {
   "cell_type": "markdown",
   "metadata": {},
   "source": [
    "## 9.3 Convert Longer Clips into Windows and Make Predictions"
   ]
  },
  {
   "cell_type": "code",
   "execution_count": null,
   "metadata": {},
   "outputs": [],
   "source": [
    "audio_slices = tf.keras.utils.timeseries_dataset_from_array(wav, wav, sequence_length=16000, sequence_stride=16000, batch_size=1)\n",
    "audio_slices = audio_slices.map(preprocess_mp3)\n",
    "audio_slices = audio_slices.batch(64)"
   ]
  },
  {
   "cell_type": "code",
   "execution_count": null,
   "metadata": {},
   "outputs": [],
   "source": [
    "yhat = model.predict(audio_slices)\n",
    "yhat = [1 if prediction > 0.5 else 0 for prediction in yhat]"
   ]
  },
  {
   "cell_type": "markdown",
   "metadata": {},
   "source": [
    "## 9.4 Group Consecutive Detections"
   ]
  },
  {
   "cell_type": "code",
   "execution_count": null,
   "metadata": {},
   "outputs": [],
   "source": [
    "from itertools import groupby"
   ]
  },
  {
   "cell_type": "code",
   "execution_count": null,
   "metadata": {},
   "outputs": [],
   "source": [
    "yhat = [key for key, group in groupby(yhat)]\n",
    "calls = tf.math.reduce_sum(yhat).numpy()"
   ]
  },
  {
   "cell_type": "code",
   "execution_count": null,
   "metadata": {},
   "outputs": [],
   "source": [
    "calls"
   ]
  },
  {
   "cell_type": "markdown",
   "metadata": {},
   "source": [
    "# 10. Make Predictions"
   ]
  },
  {
   "cell_type": "markdown",
   "metadata": {},
   "source": [
    "## 10.1 Loop over all recordings and make predictions"
   ]
  },
  {
   "cell_type": "code",
   "execution_count": null,
   "metadata": {},
   "outputs": [],
   "source": [
    "results = {}\n",
    "for file in os.listdir(os.path.join('data', 'Forest Recordings')):\n",
    "    FILEPATH = os.path.join('data','Forest Recordings', file)\n",
    "    \n",
    "    wav = load_mp3_16k_mono(FILEPATH)\n",
    "    audio_slices = tf.keras.utils.timeseries_dataset_from_array(wav, wav, sequence_length=48000, sequence_stride=48000, batch_size=1)\n",
    "    audio_slices = audio_slices.map(preprocess_mp3)\n",
    "    audio_slices = audio_slices.batch(64)\n",
    "    \n",
    "    yhat = model.predict(audio_slices)\n",
    "    \n",
    "    results[file] = yhat"
   ]
  },
  {
   "cell_type": "code",
   "execution_count": null,
   "metadata": {
    "scrolled": true,
    "tags": []
   },
   "outputs": [],
   "source": [
    "results"
   ]
  },
  {
   "cell_type": "markdown",
   "metadata": {},
   "source": [
    "## 10.2 Convert Predictions into Classes"
   ]
  },
  {
   "cell_type": "code",
   "execution_count": null,
   "metadata": {
    "scrolled": true,
    "tags": []
   },
   "outputs": [],
   "source": [
    "class_preds = {}\n",
    "for file, logits in results.items():\n",
    "    class_preds[file] = [1 if prediction > 0.99 else 0 for prediction in logits]\n",
    "class_preds"
   ]
  },
  {
   "cell_type": "markdown",
   "metadata": {},
   "source": [
    "## 10.3 Group Consecutive Detections"
   ]
  },
  {
   "cell_type": "code",
   "execution_count": null,
   "metadata": {
    "scrolled": true,
    "tags": []
   },
   "outputs": [],
   "source": [
    "postprocessed = {}\n",
    "for file, scores in class_preds.items():\n",
    "    postprocessed[file] = tf.math.reduce_sum([key for key, group in groupby(scores)]).numpy()\n",
    "postprocessed"
   ]
  },
  {
   "cell_type": "markdown",
   "metadata": {},
   "source": [
    "# 11. Export Results"
   ]
  },
  {
   "cell_type": "code",
   "execution_count": null,
   "metadata": {},
   "outputs": [],
   "source": [
    "import csv"
   ]
  },
  {
   "cell_type": "code",
   "execution_count": null,
   "metadata": {
    "tags": []
   },
   "outputs": [],
   "source": [
    "with open('results.csv', 'w', newline='') as f:\n",
    "    writer = csv.writer(f, delimiter=',')\n",
    "    writer.writerow(['recording', 'capuchin_calls'])\n",
    "    for key, value in postprocessed.items():\n",
    "        writer.writerow([key, value])"
   ]
  }
 ],
 "metadata": {
  "kernelspec": {
   "display_name": "Python 3 (ipykernel)",
   "language": "python",
   "name": "python3"
  },
  "language_info": {
   "codemirror_mode": {
    "name": "ipython",
    "version": 3
   },
   "file_extension": ".py",
   "mimetype": "text/x-python",
   "name": "python",
   "nbconvert_exporter": "python",
   "pygments_lexer": "ipython3",
   "version": "3.10.13"
  }
 },
 "nbformat": 4,
 "nbformat_minor": 4
}
